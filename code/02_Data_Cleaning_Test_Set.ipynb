{
 "cells": [
  {
   "cell_type": "markdown",
   "metadata": {},
   "source": [
    "# Project 2 - Ames Housing Data and Kaggle Challenge (02_Data_Cleaning_Test_Set)"
   ]
  },
  {
   "cell_type": "markdown",
   "metadata": {},
   "source": [
    "## Libaries Imports"
   ]
  },
  {
   "cell_type": "code",
   "execution_count": 1,
   "metadata": {},
   "outputs": [],
   "source": [
    "import pandas as pd\n",
    "import numpy as np\n",
    "import seaborn as sns\n",
    "import matplotlib.pyplot as plt\n",
    "from sklearn.linear_model import LinearRegression, LassoCV, RidgeCV\n",
    "from sklearn.preprocessing import PolynomialFeatures, StandardScaler\n",
    "from sklearn.model_selection import train_test_split, cross_val_score, cross_val_predict\n",
    "from sklearn.metrics import r2_score\n",
    "\n",
    "%matplotlib inline "
   ]
  },
  {
   "cell_type": "markdown",
   "metadata": {},
   "source": [
    "## Data Cleaning - Test Set"
   ]
  },
  {
   "cell_type": "code",
   "execution_count": 2,
   "metadata": {},
   "outputs": [],
   "source": [
    "pd.options.display.max_columns = None\n",
    "test = pd.read_csv('../datasets/test.csv')"
   ]
  },
  {
   "cell_type": "code",
   "execution_count": 3,
   "metadata": {},
   "outputs": [
    {
     "data": {
      "text/plain": [
       "(878, 80)"
      ]
     },
     "execution_count": 3,
     "metadata": {},
     "output_type": "execute_result"
    }
   ],
   "source": [
    "# Checking rows and columns for test data\n",
    "test.shape"
   ]
  },
  {
   "cell_type": "code",
   "execution_count": 4,
   "metadata": {
    "scrolled": true
   },
   "outputs": [
    {
     "name": "stdout",
     "output_type": "stream",
     "text": [
      "<class 'pandas.core.frame.DataFrame'>\n",
      "RangeIndex: 878 entries, 0 to 877\n",
      "Data columns (total 80 columns):\n",
      " #   Column           Non-Null Count  Dtype  \n",
      "---  ------           --------------  -----  \n",
      " 0   Id               878 non-null    int64  \n",
      " 1   PID              878 non-null    int64  \n",
      " 2   MS SubClass      878 non-null    int64  \n",
      " 3   MS Zoning        878 non-null    object \n",
      " 4   Lot Frontage     718 non-null    float64\n",
      " 5   Lot Area         878 non-null    int64  \n",
      " 6   Street           878 non-null    object \n",
      " 7   Alley            58 non-null     object \n",
      " 8   Lot Shape        878 non-null    object \n",
      " 9   Land Contour     878 non-null    object \n",
      " 10  Utilities        878 non-null    object \n",
      " 11  Lot Config       878 non-null    object \n",
      " 12  Land Slope       878 non-null    object \n",
      " 13  Neighborhood     878 non-null    object \n",
      " 14  Condition 1      878 non-null    object \n",
      " 15  Condition 2      878 non-null    object \n",
      " 16  Bldg Type        878 non-null    object \n",
      " 17  House Style      878 non-null    object \n",
      " 18  Overall Qual     878 non-null    int64  \n",
      " 19  Overall Cond     878 non-null    int64  \n",
      " 20  Year Built       878 non-null    int64  \n",
      " 21  Year Remod/Add   878 non-null    int64  \n",
      " 22  Roof Style       878 non-null    object \n",
      " 23  Roof Matl        878 non-null    object \n",
      " 24  Exterior 1st     878 non-null    object \n",
      " 25  Exterior 2nd     878 non-null    object \n",
      " 26  Mas Vnr Type     877 non-null    object \n",
      " 27  Mas Vnr Area     877 non-null    float64\n",
      " 28  Exter Qual       878 non-null    object \n",
      " 29  Exter Cond       878 non-null    object \n",
      " 30  Foundation       878 non-null    object \n",
      " 31  Bsmt Qual        853 non-null    object \n",
      " 32  Bsmt Cond        853 non-null    object \n",
      " 33  Bsmt Exposure    853 non-null    object \n",
      " 34  BsmtFin Type 1   853 non-null    object \n",
      " 35  BsmtFin SF 1     878 non-null    int64  \n",
      " 36  BsmtFin Type 2   853 non-null    object \n",
      " 37  BsmtFin SF 2     878 non-null    int64  \n",
      " 38  Bsmt Unf SF      878 non-null    int64  \n",
      " 39  Total Bsmt SF    878 non-null    int64  \n",
      " 40  Heating          878 non-null    object \n",
      " 41  Heating QC       878 non-null    object \n",
      " 42  Central Air      878 non-null    object \n",
      " 43  Electrical       877 non-null    object \n",
      " 44  1st Flr SF       878 non-null    int64  \n",
      " 45  2nd Flr SF       878 non-null    int64  \n",
      " 46  Low Qual Fin SF  878 non-null    int64  \n",
      " 47  Gr Liv Area      878 non-null    int64  \n",
      " 48  Bsmt Full Bath   878 non-null    int64  \n",
      " 49  Bsmt Half Bath   878 non-null    int64  \n",
      " 50  Full Bath        878 non-null    int64  \n",
      " 51  Half Bath        878 non-null    int64  \n",
      " 52  Bedroom AbvGr    878 non-null    int64  \n",
      " 53  Kitchen AbvGr    878 non-null    int64  \n",
      " 54  Kitchen Qual     878 non-null    object \n",
      " 55  TotRms AbvGrd    878 non-null    int64  \n",
      " 56  Functional       878 non-null    object \n",
      " 57  Fireplaces       878 non-null    int64  \n",
      " 58  Fireplace Qu     456 non-null    object \n",
      " 59  Garage Type      834 non-null    object \n",
      " 60  Garage Yr Blt    833 non-null    float64\n",
      " 61  Garage Finish    833 non-null    object \n",
      " 62  Garage Cars      878 non-null    int64  \n",
      " 63  Garage Area      878 non-null    int64  \n",
      " 64  Garage Qual      833 non-null    object \n",
      " 65  Garage Cond      833 non-null    object \n",
      " 66  Paved Drive      878 non-null    object \n",
      " 67  Wood Deck SF     878 non-null    int64  \n",
      " 68  Open Porch SF    878 non-null    int64  \n",
      " 69  Enclosed Porch   878 non-null    int64  \n",
      " 70  3Ssn Porch       878 non-null    int64  \n",
      " 71  Screen Porch     878 non-null    int64  \n",
      " 72  Pool Area        878 non-null    int64  \n",
      " 73  Pool QC          4 non-null      object \n",
      " 74  Fence            172 non-null    object \n",
      " 75  Misc Feature     41 non-null     object \n",
      " 76  Misc Val         878 non-null    int64  \n",
      " 77  Mo Sold          878 non-null    int64  \n",
      " 78  Yr Sold          878 non-null    int64  \n",
      " 79  Sale Type        878 non-null    object \n",
      "dtypes: float64(3), int64(35), object(42)\n",
      "memory usage: 548.9+ KB\n"
     ]
    }
   ],
   "source": [
    "# Checking info for test data\n",
    "test.info()"
   ]
  },
  {
   "cell_type": "markdown",
   "metadata": {},
   "source": [
    "##### Checking if Id and PID are unique"
   ]
  },
  {
   "cell_type": "code",
   "execution_count": 5,
   "metadata": {},
   "outputs": [
    {
     "name": "stdout",
     "output_type": "stream",
     "text": [
      "Total unique rows for Id: 878\n",
      "Total unique rows for PID: 878\n"
     ]
    }
   ],
   "source": [
    "print('Total unique rows for Id:', len(test['Id'].unique()))\n",
    "print('Total unique rows for PID:', len(test['PID'].unique()))"
   ]
  },
  {
   "cell_type": "markdown",
   "metadata": {},
   "source": [
    "##### Setting column names to lower case and replacing spacing with a '_'"
   ]
  },
  {
   "cell_type": "code",
   "execution_count": 6,
   "metadata": {},
   "outputs": [
    {
     "data": {
      "text/html": [
       "<div>\n",
       "<style scoped>\n",
       "    .dataframe tbody tr th:only-of-type {\n",
       "        vertical-align: middle;\n",
       "    }\n",
       "\n",
       "    .dataframe tbody tr th {\n",
       "        vertical-align: top;\n",
       "    }\n",
       "\n",
       "    .dataframe thead th {\n",
       "        text-align: right;\n",
       "    }\n",
       "</style>\n",
       "<table border=\"1\" class=\"dataframe\">\n",
       "  <thead>\n",
       "    <tr style=\"text-align: right;\">\n",
       "      <th></th>\n",
       "      <th>id</th>\n",
       "      <th>pid</th>\n",
       "      <th>ms_subclass</th>\n",
       "      <th>ms_zoning</th>\n",
       "      <th>lot_frontage</th>\n",
       "      <th>lot_area</th>\n",
       "      <th>street</th>\n",
       "      <th>alley</th>\n",
       "      <th>lot_shape</th>\n",
       "      <th>land_contour</th>\n",
       "      <th>utilities</th>\n",
       "      <th>lot_config</th>\n",
       "      <th>land_slope</th>\n",
       "      <th>neighborhood</th>\n",
       "      <th>condition_1</th>\n",
       "      <th>condition_2</th>\n",
       "      <th>bldg_type</th>\n",
       "      <th>house_style</th>\n",
       "      <th>overall_qual</th>\n",
       "      <th>overall_cond</th>\n",
       "      <th>year_built</th>\n",
       "      <th>year_remod/add</th>\n",
       "      <th>roof_style</th>\n",
       "      <th>roof_matl</th>\n",
       "      <th>exterior_1st</th>\n",
       "      <th>exterior_2nd</th>\n",
       "      <th>mas_vnr_type</th>\n",
       "      <th>mas_vnr_area</th>\n",
       "      <th>exter_qual</th>\n",
       "      <th>exter_cond</th>\n",
       "      <th>foundation</th>\n",
       "      <th>bsmt_qual</th>\n",
       "      <th>bsmt_cond</th>\n",
       "      <th>bsmt_exposure</th>\n",
       "      <th>bsmtfin_type_1</th>\n",
       "      <th>bsmtfin_sf_1</th>\n",
       "      <th>bsmtfin_type_2</th>\n",
       "      <th>bsmtfin_sf_2</th>\n",
       "      <th>bsmt_unf_sf</th>\n",
       "      <th>total_bsmt_sf</th>\n",
       "      <th>heating</th>\n",
       "      <th>heating_qc</th>\n",
       "      <th>central_air</th>\n",
       "      <th>electrical</th>\n",
       "      <th>1st_flr_sf</th>\n",
       "      <th>2nd_flr_sf</th>\n",
       "      <th>low_qual_fin_sf</th>\n",
       "      <th>gr_liv_area</th>\n",
       "      <th>bsmt_full_bath</th>\n",
       "      <th>bsmt_half_bath</th>\n",
       "      <th>full_bath</th>\n",
       "      <th>half_bath</th>\n",
       "      <th>bedroom_abvgr</th>\n",
       "      <th>kitchen_abvgr</th>\n",
       "      <th>kitchen_qual</th>\n",
       "      <th>totrms_abvgrd</th>\n",
       "      <th>functional</th>\n",
       "      <th>fireplaces</th>\n",
       "      <th>fireplace_qu</th>\n",
       "      <th>garage_type</th>\n",
       "      <th>garage_yr_blt</th>\n",
       "      <th>garage_finish</th>\n",
       "      <th>garage_cars</th>\n",
       "      <th>garage_area</th>\n",
       "      <th>garage_qual</th>\n",
       "      <th>garage_cond</th>\n",
       "      <th>paved_drive</th>\n",
       "      <th>wood_deck_sf</th>\n",
       "      <th>open_porch_sf</th>\n",
       "      <th>enclosed_porch</th>\n",
       "      <th>3ssn_porch</th>\n",
       "      <th>screen_porch</th>\n",
       "      <th>pool_area</th>\n",
       "      <th>pool_qc</th>\n",
       "      <th>fence</th>\n",
       "      <th>misc_feature</th>\n",
       "      <th>misc_val</th>\n",
       "      <th>mo_sold</th>\n",
       "      <th>yr_sold</th>\n",
       "      <th>sale_type</th>\n",
       "    </tr>\n",
       "  </thead>\n",
       "  <tbody>\n",
       "    <tr>\n",
       "      <th>0</th>\n",
       "      <td>2658</td>\n",
       "      <td>902301120</td>\n",
       "      <td>190</td>\n",
       "      <td>RM</td>\n",
       "      <td>69.0</td>\n",
       "      <td>9142</td>\n",
       "      <td>Pave</td>\n",
       "      <td>Grvl</td>\n",
       "      <td>Reg</td>\n",
       "      <td>Lvl</td>\n",
       "      <td>AllPub</td>\n",
       "      <td>Inside</td>\n",
       "      <td>Gtl</td>\n",
       "      <td>OldTown</td>\n",
       "      <td>Norm</td>\n",
       "      <td>Norm</td>\n",
       "      <td>2fmCon</td>\n",
       "      <td>2Story</td>\n",
       "      <td>6</td>\n",
       "      <td>8</td>\n",
       "      <td>1910</td>\n",
       "      <td>1950</td>\n",
       "      <td>Gable</td>\n",
       "      <td>CompShg</td>\n",
       "      <td>AsbShng</td>\n",
       "      <td>AsbShng</td>\n",
       "      <td>None</td>\n",
       "      <td>0.0</td>\n",
       "      <td>TA</td>\n",
       "      <td>Fa</td>\n",
       "      <td>Stone</td>\n",
       "      <td>Fa</td>\n",
       "      <td>TA</td>\n",
       "      <td>No</td>\n",
       "      <td>Unf</td>\n",
       "      <td>0</td>\n",
       "      <td>Unf</td>\n",
       "      <td>0</td>\n",
       "      <td>1020</td>\n",
       "      <td>1020</td>\n",
       "      <td>GasA</td>\n",
       "      <td>Gd</td>\n",
       "      <td>N</td>\n",
       "      <td>FuseP</td>\n",
       "      <td>908</td>\n",
       "      <td>1020</td>\n",
       "      <td>0</td>\n",
       "      <td>1928</td>\n",
       "      <td>0</td>\n",
       "      <td>0</td>\n",
       "      <td>2</td>\n",
       "      <td>0</td>\n",
       "      <td>4</td>\n",
       "      <td>2</td>\n",
       "      <td>Fa</td>\n",
       "      <td>9</td>\n",
       "      <td>Typ</td>\n",
       "      <td>0</td>\n",
       "      <td>NaN</td>\n",
       "      <td>Detchd</td>\n",
       "      <td>1910.0</td>\n",
       "      <td>Unf</td>\n",
       "      <td>1</td>\n",
       "      <td>440</td>\n",
       "      <td>Po</td>\n",
       "      <td>Po</td>\n",
       "      <td>Y</td>\n",
       "      <td>0</td>\n",
       "      <td>60</td>\n",
       "      <td>112</td>\n",
       "      <td>0</td>\n",
       "      <td>0</td>\n",
       "      <td>0</td>\n",
       "      <td>NaN</td>\n",
       "      <td>NaN</td>\n",
       "      <td>NaN</td>\n",
       "      <td>0</td>\n",
       "      <td>4</td>\n",
       "      <td>2006</td>\n",
       "      <td>WD</td>\n",
       "    </tr>\n",
       "    <tr>\n",
       "      <th>1</th>\n",
       "      <td>2718</td>\n",
       "      <td>905108090</td>\n",
       "      <td>90</td>\n",
       "      <td>RL</td>\n",
       "      <td>NaN</td>\n",
       "      <td>9662</td>\n",
       "      <td>Pave</td>\n",
       "      <td>NaN</td>\n",
       "      <td>IR1</td>\n",
       "      <td>Lvl</td>\n",
       "      <td>AllPub</td>\n",
       "      <td>Inside</td>\n",
       "      <td>Gtl</td>\n",
       "      <td>Sawyer</td>\n",
       "      <td>Norm</td>\n",
       "      <td>Norm</td>\n",
       "      <td>Duplex</td>\n",
       "      <td>1Story</td>\n",
       "      <td>5</td>\n",
       "      <td>4</td>\n",
       "      <td>1977</td>\n",
       "      <td>1977</td>\n",
       "      <td>Gable</td>\n",
       "      <td>CompShg</td>\n",
       "      <td>Plywood</td>\n",
       "      <td>Plywood</td>\n",
       "      <td>None</td>\n",
       "      <td>0.0</td>\n",
       "      <td>TA</td>\n",
       "      <td>TA</td>\n",
       "      <td>CBlock</td>\n",
       "      <td>Gd</td>\n",
       "      <td>TA</td>\n",
       "      <td>No</td>\n",
       "      <td>Unf</td>\n",
       "      <td>0</td>\n",
       "      <td>Unf</td>\n",
       "      <td>0</td>\n",
       "      <td>1967</td>\n",
       "      <td>1967</td>\n",
       "      <td>GasA</td>\n",
       "      <td>TA</td>\n",
       "      <td>Y</td>\n",
       "      <td>SBrkr</td>\n",
       "      <td>1967</td>\n",
       "      <td>0</td>\n",
       "      <td>0</td>\n",
       "      <td>1967</td>\n",
       "      <td>0</td>\n",
       "      <td>0</td>\n",
       "      <td>2</td>\n",
       "      <td>0</td>\n",
       "      <td>6</td>\n",
       "      <td>2</td>\n",
       "      <td>TA</td>\n",
       "      <td>10</td>\n",
       "      <td>Typ</td>\n",
       "      <td>0</td>\n",
       "      <td>NaN</td>\n",
       "      <td>Attchd</td>\n",
       "      <td>1977.0</td>\n",
       "      <td>Fin</td>\n",
       "      <td>2</td>\n",
       "      <td>580</td>\n",
       "      <td>TA</td>\n",
       "      <td>TA</td>\n",
       "      <td>Y</td>\n",
       "      <td>170</td>\n",
       "      <td>0</td>\n",
       "      <td>0</td>\n",
       "      <td>0</td>\n",
       "      <td>0</td>\n",
       "      <td>0</td>\n",
       "      <td>NaN</td>\n",
       "      <td>NaN</td>\n",
       "      <td>NaN</td>\n",
       "      <td>0</td>\n",
       "      <td>8</td>\n",
       "      <td>2006</td>\n",
       "      <td>WD</td>\n",
       "    </tr>\n",
       "    <tr>\n",
       "      <th>2</th>\n",
       "      <td>2414</td>\n",
       "      <td>528218130</td>\n",
       "      <td>60</td>\n",
       "      <td>RL</td>\n",
       "      <td>58.0</td>\n",
       "      <td>17104</td>\n",
       "      <td>Pave</td>\n",
       "      <td>NaN</td>\n",
       "      <td>IR1</td>\n",
       "      <td>Lvl</td>\n",
       "      <td>AllPub</td>\n",
       "      <td>Inside</td>\n",
       "      <td>Gtl</td>\n",
       "      <td>Gilbert</td>\n",
       "      <td>Norm</td>\n",
       "      <td>Norm</td>\n",
       "      <td>1Fam</td>\n",
       "      <td>2Story</td>\n",
       "      <td>7</td>\n",
       "      <td>5</td>\n",
       "      <td>2006</td>\n",
       "      <td>2006</td>\n",
       "      <td>Gable</td>\n",
       "      <td>CompShg</td>\n",
       "      <td>VinylSd</td>\n",
       "      <td>VinylSd</td>\n",
       "      <td>None</td>\n",
       "      <td>0.0</td>\n",
       "      <td>Gd</td>\n",
       "      <td>TA</td>\n",
       "      <td>PConc</td>\n",
       "      <td>Gd</td>\n",
       "      <td>Gd</td>\n",
       "      <td>Av</td>\n",
       "      <td>GLQ</td>\n",
       "      <td>554</td>\n",
       "      <td>Unf</td>\n",
       "      <td>0</td>\n",
       "      <td>100</td>\n",
       "      <td>654</td>\n",
       "      <td>GasA</td>\n",
       "      <td>Ex</td>\n",
       "      <td>Y</td>\n",
       "      <td>SBrkr</td>\n",
       "      <td>664</td>\n",
       "      <td>832</td>\n",
       "      <td>0</td>\n",
       "      <td>1496</td>\n",
       "      <td>1</td>\n",
       "      <td>0</td>\n",
       "      <td>2</td>\n",
       "      <td>1</td>\n",
       "      <td>3</td>\n",
       "      <td>1</td>\n",
       "      <td>Gd</td>\n",
       "      <td>7</td>\n",
       "      <td>Typ</td>\n",
       "      <td>1</td>\n",
       "      <td>Gd</td>\n",
       "      <td>Attchd</td>\n",
       "      <td>2006.0</td>\n",
       "      <td>RFn</td>\n",
       "      <td>2</td>\n",
       "      <td>426</td>\n",
       "      <td>TA</td>\n",
       "      <td>TA</td>\n",
       "      <td>Y</td>\n",
       "      <td>100</td>\n",
       "      <td>24</td>\n",
       "      <td>0</td>\n",
       "      <td>0</td>\n",
       "      <td>0</td>\n",
       "      <td>0</td>\n",
       "      <td>NaN</td>\n",
       "      <td>NaN</td>\n",
       "      <td>NaN</td>\n",
       "      <td>0</td>\n",
       "      <td>9</td>\n",
       "      <td>2006</td>\n",
       "      <td>New</td>\n",
       "    </tr>\n",
       "    <tr>\n",
       "      <th>3</th>\n",
       "      <td>1989</td>\n",
       "      <td>902207150</td>\n",
       "      <td>30</td>\n",
       "      <td>RM</td>\n",
       "      <td>60.0</td>\n",
       "      <td>8520</td>\n",
       "      <td>Pave</td>\n",
       "      <td>NaN</td>\n",
       "      <td>Reg</td>\n",
       "      <td>Lvl</td>\n",
       "      <td>AllPub</td>\n",
       "      <td>Inside</td>\n",
       "      <td>Gtl</td>\n",
       "      <td>OldTown</td>\n",
       "      <td>Norm</td>\n",
       "      <td>Norm</td>\n",
       "      <td>1Fam</td>\n",
       "      <td>1Story</td>\n",
       "      <td>5</td>\n",
       "      <td>6</td>\n",
       "      <td>1923</td>\n",
       "      <td>2006</td>\n",
       "      <td>Gable</td>\n",
       "      <td>CompShg</td>\n",
       "      <td>Wd Sdng</td>\n",
       "      <td>Wd Sdng</td>\n",
       "      <td>None</td>\n",
       "      <td>0.0</td>\n",
       "      <td>Gd</td>\n",
       "      <td>TA</td>\n",
       "      <td>CBlock</td>\n",
       "      <td>TA</td>\n",
       "      <td>TA</td>\n",
       "      <td>No</td>\n",
       "      <td>Unf</td>\n",
       "      <td>0</td>\n",
       "      <td>Unf</td>\n",
       "      <td>0</td>\n",
       "      <td>968</td>\n",
       "      <td>968</td>\n",
       "      <td>GasA</td>\n",
       "      <td>TA</td>\n",
       "      <td>Y</td>\n",
       "      <td>SBrkr</td>\n",
       "      <td>968</td>\n",
       "      <td>0</td>\n",
       "      <td>0</td>\n",
       "      <td>968</td>\n",
       "      <td>0</td>\n",
       "      <td>0</td>\n",
       "      <td>1</td>\n",
       "      <td>0</td>\n",
       "      <td>2</td>\n",
       "      <td>1</td>\n",
       "      <td>TA</td>\n",
       "      <td>5</td>\n",
       "      <td>Typ</td>\n",
       "      <td>0</td>\n",
       "      <td>NaN</td>\n",
       "      <td>Detchd</td>\n",
       "      <td>1935.0</td>\n",
       "      <td>Unf</td>\n",
       "      <td>2</td>\n",
       "      <td>480</td>\n",
       "      <td>Fa</td>\n",
       "      <td>TA</td>\n",
       "      <td>N</td>\n",
       "      <td>0</td>\n",
       "      <td>0</td>\n",
       "      <td>184</td>\n",
       "      <td>0</td>\n",
       "      <td>0</td>\n",
       "      <td>0</td>\n",
       "      <td>NaN</td>\n",
       "      <td>NaN</td>\n",
       "      <td>NaN</td>\n",
       "      <td>0</td>\n",
       "      <td>7</td>\n",
       "      <td>2007</td>\n",
       "      <td>WD</td>\n",
       "    </tr>\n",
       "    <tr>\n",
       "      <th>4</th>\n",
       "      <td>625</td>\n",
       "      <td>535105100</td>\n",
       "      <td>20</td>\n",
       "      <td>RL</td>\n",
       "      <td>NaN</td>\n",
       "      <td>9500</td>\n",
       "      <td>Pave</td>\n",
       "      <td>NaN</td>\n",
       "      <td>IR1</td>\n",
       "      <td>Lvl</td>\n",
       "      <td>AllPub</td>\n",
       "      <td>Inside</td>\n",
       "      <td>Gtl</td>\n",
       "      <td>NAmes</td>\n",
       "      <td>Norm</td>\n",
       "      <td>Norm</td>\n",
       "      <td>1Fam</td>\n",
       "      <td>1Story</td>\n",
       "      <td>6</td>\n",
       "      <td>5</td>\n",
       "      <td>1963</td>\n",
       "      <td>1963</td>\n",
       "      <td>Gable</td>\n",
       "      <td>CompShg</td>\n",
       "      <td>Plywood</td>\n",
       "      <td>Plywood</td>\n",
       "      <td>BrkFace</td>\n",
       "      <td>247.0</td>\n",
       "      <td>TA</td>\n",
       "      <td>TA</td>\n",
       "      <td>CBlock</td>\n",
       "      <td>Gd</td>\n",
       "      <td>TA</td>\n",
       "      <td>No</td>\n",
       "      <td>BLQ</td>\n",
       "      <td>609</td>\n",
       "      <td>Unf</td>\n",
       "      <td>0</td>\n",
       "      <td>785</td>\n",
       "      <td>1394</td>\n",
       "      <td>GasA</td>\n",
       "      <td>Gd</td>\n",
       "      <td>Y</td>\n",
       "      <td>SBrkr</td>\n",
       "      <td>1394</td>\n",
       "      <td>0</td>\n",
       "      <td>0</td>\n",
       "      <td>1394</td>\n",
       "      <td>1</td>\n",
       "      <td>0</td>\n",
       "      <td>1</td>\n",
       "      <td>1</td>\n",
       "      <td>3</td>\n",
       "      <td>1</td>\n",
       "      <td>TA</td>\n",
       "      <td>6</td>\n",
       "      <td>Typ</td>\n",
       "      <td>2</td>\n",
       "      <td>Gd</td>\n",
       "      <td>Attchd</td>\n",
       "      <td>1963.0</td>\n",
       "      <td>RFn</td>\n",
       "      <td>2</td>\n",
       "      <td>514</td>\n",
       "      <td>TA</td>\n",
       "      <td>TA</td>\n",
       "      <td>Y</td>\n",
       "      <td>0</td>\n",
       "      <td>76</td>\n",
       "      <td>0</td>\n",
       "      <td>0</td>\n",
       "      <td>185</td>\n",
       "      <td>0</td>\n",
       "      <td>NaN</td>\n",
       "      <td>NaN</td>\n",
       "      <td>NaN</td>\n",
       "      <td>0</td>\n",
       "      <td>7</td>\n",
       "      <td>2009</td>\n",
       "      <td>WD</td>\n",
       "    </tr>\n",
       "  </tbody>\n",
       "</table>\n",
       "</div>"
      ],
      "text/plain": [
       "     id        pid  ms_subclass ms_zoning  lot_frontage  lot_area street  \\\n",
       "0  2658  902301120          190        RM          69.0      9142   Pave   \n",
       "1  2718  905108090           90        RL           NaN      9662   Pave   \n",
       "2  2414  528218130           60        RL          58.0     17104   Pave   \n",
       "3  1989  902207150           30        RM          60.0      8520   Pave   \n",
       "4   625  535105100           20        RL           NaN      9500   Pave   \n",
       "\n",
       "  alley lot_shape land_contour utilities lot_config land_slope neighborhood  \\\n",
       "0  Grvl       Reg          Lvl    AllPub     Inside        Gtl      OldTown   \n",
       "1   NaN       IR1          Lvl    AllPub     Inside        Gtl       Sawyer   \n",
       "2   NaN       IR1          Lvl    AllPub     Inside        Gtl      Gilbert   \n",
       "3   NaN       Reg          Lvl    AllPub     Inside        Gtl      OldTown   \n",
       "4   NaN       IR1          Lvl    AllPub     Inside        Gtl        NAmes   \n",
       "\n",
       "  condition_1 condition_2 bldg_type house_style  overall_qual  overall_cond  \\\n",
       "0        Norm        Norm    2fmCon      2Story             6             8   \n",
       "1        Norm        Norm    Duplex      1Story             5             4   \n",
       "2        Norm        Norm      1Fam      2Story             7             5   \n",
       "3        Norm        Norm      1Fam      1Story             5             6   \n",
       "4        Norm        Norm      1Fam      1Story             6             5   \n",
       "\n",
       "   year_built  year_remod/add roof_style roof_matl exterior_1st exterior_2nd  \\\n",
       "0        1910            1950      Gable   CompShg      AsbShng      AsbShng   \n",
       "1        1977            1977      Gable   CompShg      Plywood      Plywood   \n",
       "2        2006            2006      Gable   CompShg      VinylSd      VinylSd   \n",
       "3        1923            2006      Gable   CompShg      Wd Sdng      Wd Sdng   \n",
       "4        1963            1963      Gable   CompShg      Plywood      Plywood   \n",
       "\n",
       "  mas_vnr_type  mas_vnr_area exter_qual exter_cond foundation bsmt_qual  \\\n",
       "0         None           0.0         TA         Fa      Stone        Fa   \n",
       "1         None           0.0         TA         TA     CBlock        Gd   \n",
       "2         None           0.0         Gd         TA      PConc        Gd   \n",
       "3         None           0.0         Gd         TA     CBlock        TA   \n",
       "4      BrkFace         247.0         TA         TA     CBlock        Gd   \n",
       "\n",
       "  bsmt_cond bsmt_exposure bsmtfin_type_1  bsmtfin_sf_1 bsmtfin_type_2  \\\n",
       "0        TA            No            Unf             0            Unf   \n",
       "1        TA            No            Unf             0            Unf   \n",
       "2        Gd            Av            GLQ           554            Unf   \n",
       "3        TA            No            Unf             0            Unf   \n",
       "4        TA            No            BLQ           609            Unf   \n",
       "\n",
       "   bsmtfin_sf_2  bsmt_unf_sf  total_bsmt_sf heating heating_qc central_air  \\\n",
       "0             0         1020           1020    GasA         Gd           N   \n",
       "1             0         1967           1967    GasA         TA           Y   \n",
       "2             0          100            654    GasA         Ex           Y   \n",
       "3             0          968            968    GasA         TA           Y   \n",
       "4             0          785           1394    GasA         Gd           Y   \n",
       "\n",
       "  electrical  1st_flr_sf  2nd_flr_sf  low_qual_fin_sf  gr_liv_area  \\\n",
       "0      FuseP         908        1020                0         1928   \n",
       "1      SBrkr        1967           0                0         1967   \n",
       "2      SBrkr         664         832                0         1496   \n",
       "3      SBrkr         968           0                0          968   \n",
       "4      SBrkr        1394           0                0         1394   \n",
       "\n",
       "   bsmt_full_bath  bsmt_half_bath  full_bath  half_bath  bedroom_abvgr  \\\n",
       "0               0               0          2          0              4   \n",
       "1               0               0          2          0              6   \n",
       "2               1               0          2          1              3   \n",
       "3               0               0          1          0              2   \n",
       "4               1               0          1          1              3   \n",
       "\n",
       "   kitchen_abvgr kitchen_qual  totrms_abvgrd functional  fireplaces  \\\n",
       "0              2           Fa              9        Typ           0   \n",
       "1              2           TA             10        Typ           0   \n",
       "2              1           Gd              7        Typ           1   \n",
       "3              1           TA              5        Typ           0   \n",
       "4              1           TA              6        Typ           2   \n",
       "\n",
       "  fireplace_qu garage_type  garage_yr_blt garage_finish  garage_cars  \\\n",
       "0          NaN      Detchd         1910.0           Unf            1   \n",
       "1          NaN      Attchd         1977.0           Fin            2   \n",
       "2           Gd      Attchd         2006.0           RFn            2   \n",
       "3          NaN      Detchd         1935.0           Unf            2   \n",
       "4           Gd      Attchd         1963.0           RFn            2   \n",
       "\n",
       "   garage_area garage_qual garage_cond paved_drive  wood_deck_sf  \\\n",
       "0          440          Po          Po           Y             0   \n",
       "1          580          TA          TA           Y           170   \n",
       "2          426          TA          TA           Y           100   \n",
       "3          480          Fa          TA           N             0   \n",
       "4          514          TA          TA           Y             0   \n",
       "\n",
       "   open_porch_sf  enclosed_porch  3ssn_porch  screen_porch  pool_area pool_qc  \\\n",
       "0             60             112           0             0          0     NaN   \n",
       "1              0               0           0             0          0     NaN   \n",
       "2             24               0           0             0          0     NaN   \n",
       "3              0             184           0             0          0     NaN   \n",
       "4             76               0           0           185          0     NaN   \n",
       "\n",
       "  fence misc_feature  misc_val  mo_sold  yr_sold sale_type  \n",
       "0   NaN          NaN         0        4     2006       WD   \n",
       "1   NaN          NaN         0        8     2006       WD   \n",
       "2   NaN          NaN         0        9     2006       New  \n",
       "3   NaN          NaN         0        7     2007       WD   \n",
       "4   NaN          NaN         0        7     2009       WD   "
      ]
     },
     "execution_count": 6,
     "metadata": {},
     "output_type": "execute_result"
    }
   ],
   "source": [
    "test.columns = test.columns.str.lower()\n",
    "test.columns = test.columns.str.replace(' ', '_')\n",
    "test.head()"
   ]
  },
  {
   "cell_type": "markdown",
   "metadata": {},
   "source": [
    "##### Checking for Duplicated values"
   ]
  },
  {
   "cell_type": "code",
   "execution_count": 7,
   "metadata": {},
   "outputs": [
    {
     "name": "stdout",
     "output_type": "stream",
     "text": [
      "Duplicated test values: 0\n"
     ]
    }
   ],
   "source": [
    "print('Duplicated test values:', test.duplicated().sum())"
   ]
  },
  {
   "cell_type": "markdown",
   "metadata": {},
   "source": [
    "##### Getting numerical datatypes"
   ]
  },
  {
   "cell_type": "code",
   "execution_count": 8,
   "metadata": {},
   "outputs": [
    {
     "data": {
      "text/plain": [
       "['id',\n",
       " 'pid',\n",
       " 'ms_subclass',\n",
       " 'lot_frontage',\n",
       " 'lot_area',\n",
       " 'overall_qual',\n",
       " 'overall_cond',\n",
       " 'year_built',\n",
       " 'year_remod/add',\n",
       " 'mas_vnr_area',\n",
       " 'bsmtfin_sf_1',\n",
       " 'bsmtfin_sf_2',\n",
       " 'bsmt_unf_sf',\n",
       " 'total_bsmt_sf',\n",
       " '1st_flr_sf',\n",
       " '2nd_flr_sf',\n",
       " 'low_qual_fin_sf',\n",
       " 'gr_liv_area',\n",
       " 'bsmt_full_bath',\n",
       " 'bsmt_half_bath',\n",
       " 'full_bath',\n",
       " 'half_bath',\n",
       " 'bedroom_abvgr',\n",
       " 'kitchen_abvgr',\n",
       " 'totrms_abvgrd',\n",
       " 'fireplaces',\n",
       " 'garage_yr_blt',\n",
       " 'garage_cars',\n",
       " 'garage_area',\n",
       " 'wood_deck_sf',\n",
       " 'open_porch_sf',\n",
       " 'enclosed_porch',\n",
       " '3ssn_porch',\n",
       " 'screen_porch',\n",
       " 'pool_area',\n",
       " 'misc_val',\n",
       " 'mo_sold',\n",
       " 'yr_sold']"
      ]
     },
     "execution_count": 8,
     "metadata": {},
     "output_type": "execute_result"
    }
   ],
   "source": [
    "# Assigning all variables that are numerical to num_column\n",
    "num_column = [col for col in test.columns \n",
    "              if (test[col].dtype == 'int64' or test[col].dtype == float)]\n",
    "num_column"
   ]
  },
  {
   "cell_type": "markdown",
   "metadata": {},
   "source": [
    "## Null Values"
   ]
  },
  {
   "cell_type": "markdown",
   "metadata": {},
   "source": [
    "### Checking for Null values"
   ]
  },
  {
   "cell_type": "code",
   "execution_count": 9,
   "metadata": {},
   "outputs": [
    {
     "data": {
      "text/plain": [
       "pool_qc           874\n",
       "misc_feature      837\n",
       "alley             820\n",
       "fence             706\n",
       "fireplace_qu      422\n",
       "lot_frontage      160\n",
       "garage_cond        45\n",
       "garage_qual        45\n",
       "garage_yr_blt      45\n",
       "garage_finish      45\n",
       "garage_type        44\n",
       "bsmt_exposure      25\n",
       "bsmtfin_type_1     25\n",
       "bsmt_qual          25\n",
       "bsmtfin_type_2     25\n",
       "bsmt_cond          25\n",
       "mas_vnr_area        1\n",
       "mas_vnr_type        1\n",
       "electrical          1\n",
       "overall_cond        0\n",
       "dtype: int64"
      ]
     },
     "execution_count": 9,
     "metadata": {},
     "output_type": "execute_result"
    }
   ],
   "source": [
    "test.isnull().sum().sort_values(ascending=False)[:20]"
   ]
  },
  {
   "cell_type": "markdown",
   "metadata": {},
   "source": [
    "### Handling Numerical Null Values"
   ]
  },
  {
   "cell_type": "code",
   "execution_count": 10,
   "metadata": {},
   "outputs": [
    {
     "data": {
      "text/html": [
       "<div>\n",
       "<style scoped>\n",
       "    .dataframe tbody tr th:only-of-type {\n",
       "        vertical-align: middle;\n",
       "    }\n",
       "\n",
       "    .dataframe tbody tr th {\n",
       "        vertical-align: top;\n",
       "    }\n",
       "\n",
       "    .dataframe thead th {\n",
       "        text-align: right;\n",
       "    }\n",
       "</style>\n",
       "<table border=\"1\" class=\"dataframe\">\n",
       "  <thead>\n",
       "    <tr style=\"text-align: right;\">\n",
       "      <th></th>\n",
       "      <th>null_count</th>\n",
       "    </tr>\n",
       "  </thead>\n",
       "  <tbody>\n",
       "    <tr>\n",
       "      <th>garage_yr_blt</th>\n",
       "      <td>45</td>\n",
       "    </tr>\n",
       "    <tr>\n",
       "      <th>lot_frontage</th>\n",
       "      <td>160</td>\n",
       "    </tr>\n",
       "    <tr>\n",
       "      <th>mas_vnr_area</th>\n",
       "      <td>1</td>\n",
       "    </tr>\n",
       "  </tbody>\n",
       "</table>\n",
       "</div>"
      ],
      "text/plain": [
       "               null_count\n",
       "garage_yr_blt          45\n",
       "lot_frontage          160\n",
       "mas_vnr_area            1"
      ]
     },
     "execution_count": 10,
     "metadata": {},
     "output_type": "execute_result"
    }
   ],
   "source": [
    "#Getting the total null values for the numerical columns in test dataset\n",
    "test_null_num = pd.DataFrame(test[num_column].isnull().sum(), columns=['null_count'])\n",
    "test_null_num = test_null_num[test_null_num['null_count'] > 0].sort_values('null_count', ascending=False).sort_index()\n",
    "test_null_num"
   ]
  },
  {
   "cell_type": "markdown",
   "metadata": {},
   "source": [
    "##### Cleaning column garage_yr_blt null values"
   ]
  },
  {
   "cell_type": "code",
   "execution_count": 11,
   "metadata": {
    "scrolled": true
   },
   "outputs": [
    {
     "data": {
      "text/plain": [
       "(45,)"
      ]
     },
     "execution_count": 11,
     "metadata": {},
     "output_type": "execute_result"
    }
   ],
   "source": [
    "# Identifying number of rows for Null values\n",
    "test[test['garage_yr_blt'].isna()]['garage_yr_blt'].shape"
   ]
  },
  {
   "cell_type": "markdown",
   "metadata": {},
   "source": [
    "- As this is test set data, rows of test dataset can't be dropped.\n",
    "\n",
    "\n",
    "- Assigning values of 0 to null values as garage_yr_blt has also a small amount of null values"
   ]
  },
  {
   "cell_type": "code",
   "execution_count": 12,
   "metadata": {},
   "outputs": [],
   "source": [
    "# Setting Null values to 0 \n",
    "test.loc[test[test['garage_yr_blt'].isna()].index, 'garage_yr_blt'] = 0.0"
   ]
  },
  {
   "cell_type": "code",
   "execution_count": 13,
   "metadata": {},
   "outputs": [
    {
     "data": {
      "text/plain": [
       "(0,)"
      ]
     },
     "execution_count": 13,
     "metadata": {},
     "output_type": "execute_result"
    }
   ],
   "source": [
    "# Verifying that rows of the null values have been cleaned\n",
    "test[test['garage_yr_blt'].isna()]['garage_yr_blt'].shape"
   ]
  },
  {
   "cell_type": "code",
   "execution_count": 14,
   "metadata": {},
   "outputs": [
    {
     "data": {
      "text/plain": [
       "878"
      ]
     },
     "execution_count": 14,
     "metadata": {},
     "output_type": "execute_result"
    }
   ],
   "source": [
    "# Verifying that the null values has been changed\n",
    "test.groupby('garage_yr_blt').count()['id'].sum()"
   ]
  },
  {
   "cell_type": "markdown",
   "metadata": {},
   "source": [
    "##### Cleaning column lot_frontage null values"
   ]
  },
  {
   "cell_type": "code",
   "execution_count": 15,
   "metadata": {
    "scrolled": true
   },
   "outputs": [
    {
     "data": {
      "text/plain": [
       "(160,)"
      ]
     },
     "execution_count": 15,
     "metadata": {},
     "output_type": "execute_result"
    }
   ],
   "source": [
    "# Identifying number of rows for Null values\n",
    "test[test['lot_frontage'].isna()]['lot_frontage'].shape"
   ]
  },
  {
   "cell_type": "markdown",
   "metadata": {},
   "source": [
    "- Assigning values of 0 to null values as lot_frontage is a continuous variable "
   ]
  },
  {
   "cell_type": "code",
   "execution_count": 16,
   "metadata": {},
   "outputs": [],
   "source": [
    "# Setting Null values to 0 \n",
    "test.loc[test[test['lot_frontage'].isna()].index, 'lot_frontage'] = 0.0"
   ]
  },
  {
   "cell_type": "code",
   "execution_count": 17,
   "metadata": {},
   "outputs": [
    {
     "data": {
      "text/plain": [
       "(0,)"
      ]
     },
     "execution_count": 17,
     "metadata": {},
     "output_type": "execute_result"
    }
   ],
   "source": [
    "# Verifying that rows of the null values have been cleaned\n",
    "test[test['lot_frontage'].isna()]['lot_frontage'].shape"
   ]
  },
  {
   "cell_type": "code",
   "execution_count": 18,
   "metadata": {},
   "outputs": [
    {
     "data": {
      "text/plain": [
       "878"
      ]
     },
     "execution_count": 18,
     "metadata": {},
     "output_type": "execute_result"
    }
   ],
   "source": [
    "# Verifying that the null values has been changed\n",
    "test.groupby('lot_frontage').count()['id'].sum()"
   ]
  },
  {
   "cell_type": "markdown",
   "metadata": {},
   "source": [
    "##### Cleaning column mas_vnr_area null values"
   ]
  },
  {
   "cell_type": "code",
   "execution_count": 19,
   "metadata": {
    "scrolled": true
   },
   "outputs": [
    {
     "data": {
      "text/plain": [
       "(1,)"
      ]
     },
     "execution_count": 19,
     "metadata": {},
     "output_type": "execute_result"
    }
   ],
   "source": [
    "# Identifying number of rows for Null values\n",
    "test[test['mas_vnr_area'].isna()]['mas_vnr_area'].shape"
   ]
  },
  {
   "cell_type": "markdown",
   "metadata": {},
   "source": [
    "- Assigning values of 0 to null values as mas_vnr_area is a continuous variable "
   ]
  },
  {
   "cell_type": "code",
   "execution_count": 20,
   "metadata": {},
   "outputs": [],
   "source": [
    "# Setting Null values to 0 \n",
    "test.loc[test[test['mas_vnr_area'].isna()].index, 'mas_vnr_area'] = 0.0"
   ]
  },
  {
   "cell_type": "code",
   "execution_count": 21,
   "metadata": {},
   "outputs": [
    {
     "data": {
      "text/plain": [
       "(0,)"
      ]
     },
     "execution_count": 21,
     "metadata": {},
     "output_type": "execute_result"
    }
   ],
   "source": [
    "# Verifying that rows of the null values have been cleaned\n",
    "test[test['mas_vnr_area'].isna()]['mas_vnr_area'].shape"
   ]
  },
  {
   "cell_type": "code",
   "execution_count": 22,
   "metadata": {},
   "outputs": [
    {
     "data": {
      "text/plain": [
       "878"
      ]
     },
     "execution_count": 22,
     "metadata": {},
     "output_type": "execute_result"
    }
   ],
   "source": [
    "# Verifying that the null values has been changed\n",
    "test.groupby('mas_vnr_area').count()['id'].sum()"
   ]
  },
  {
   "cell_type": "markdown",
   "metadata": {},
   "source": [
    "#### Getting null values and checking if any null values are left within numerical columns for test dataset"
   ]
  },
  {
   "cell_type": "code",
   "execution_count": 23,
   "metadata": {},
   "outputs": [
    {
     "data": {
      "text/html": [
       "<div>\n",
       "<style scoped>\n",
       "    .dataframe tbody tr th:only-of-type {\n",
       "        vertical-align: middle;\n",
       "    }\n",
       "\n",
       "    .dataframe tbody tr th {\n",
       "        vertical-align: top;\n",
       "    }\n",
       "\n",
       "    .dataframe thead th {\n",
       "        text-align: right;\n",
       "    }\n",
       "</style>\n",
       "<table border=\"1\" class=\"dataframe\">\n",
       "  <thead>\n",
       "    <tr style=\"text-align: right;\">\n",
       "      <th></th>\n",
       "      <th>null_count</th>\n",
       "    </tr>\n",
       "  </thead>\n",
       "  <tbody>\n",
       "  </tbody>\n",
       "</table>\n",
       "</div>"
      ],
      "text/plain": [
       "Empty DataFrame\n",
       "Columns: [null_count]\n",
       "Index: []"
      ]
     },
     "execution_count": 23,
     "metadata": {},
     "output_type": "execute_result"
    }
   ],
   "source": [
    "# Getting the total null values for the numerical columns in test dataset\n",
    "test_null_num = pd.DataFrame(test[num_column].isnull().sum(), columns=['null_count'])\n",
    "test_null_num = test_null_num[test_null_num['null_count'] > 0].sort_values('null_count', ascending=False).sort_index()\n",
    "test_null_num"
   ]
  },
  {
   "cell_type": "markdown",
   "metadata": {},
   "source": [
    "### Handling Categorical Null Values"
   ]
  },
  {
   "cell_type": "code",
   "execution_count": 24,
   "metadata": {
    "scrolled": false
   },
   "outputs": [
    {
     "data": {
      "text/html": [
       "<div>\n",
       "<style scoped>\n",
       "    .dataframe tbody tr th:only-of-type {\n",
       "        vertical-align: middle;\n",
       "    }\n",
       "\n",
       "    .dataframe tbody tr th {\n",
       "        vertical-align: top;\n",
       "    }\n",
       "\n",
       "    .dataframe thead th {\n",
       "        text-align: right;\n",
       "    }\n",
       "</style>\n",
       "<table border=\"1\" class=\"dataframe\">\n",
       "  <thead>\n",
       "    <tr style=\"text-align: right;\">\n",
       "      <th></th>\n",
       "      <th>null_count</th>\n",
       "    </tr>\n",
       "  </thead>\n",
       "  <tbody>\n",
       "    <tr>\n",
       "      <th>alley</th>\n",
       "      <td>820</td>\n",
       "    </tr>\n",
       "    <tr>\n",
       "      <th>bsmt_cond</th>\n",
       "      <td>25</td>\n",
       "    </tr>\n",
       "    <tr>\n",
       "      <th>bsmt_exposure</th>\n",
       "      <td>25</td>\n",
       "    </tr>\n",
       "    <tr>\n",
       "      <th>bsmt_qual</th>\n",
       "      <td>25</td>\n",
       "    </tr>\n",
       "    <tr>\n",
       "      <th>bsmtfin_type_1</th>\n",
       "      <td>25</td>\n",
       "    </tr>\n",
       "    <tr>\n",
       "      <th>bsmtfin_type_2</th>\n",
       "      <td>25</td>\n",
       "    </tr>\n",
       "    <tr>\n",
       "      <th>electrical</th>\n",
       "      <td>1</td>\n",
       "    </tr>\n",
       "    <tr>\n",
       "      <th>fence</th>\n",
       "      <td>706</td>\n",
       "    </tr>\n",
       "    <tr>\n",
       "      <th>fireplace_qu</th>\n",
       "      <td>422</td>\n",
       "    </tr>\n",
       "    <tr>\n",
       "      <th>garage_cond</th>\n",
       "      <td>45</td>\n",
       "    </tr>\n",
       "    <tr>\n",
       "      <th>garage_finish</th>\n",
       "      <td>45</td>\n",
       "    </tr>\n",
       "    <tr>\n",
       "      <th>garage_qual</th>\n",
       "      <td>45</td>\n",
       "    </tr>\n",
       "    <tr>\n",
       "      <th>garage_type</th>\n",
       "      <td>44</td>\n",
       "    </tr>\n",
       "    <tr>\n",
       "      <th>mas_vnr_type</th>\n",
       "      <td>1</td>\n",
       "    </tr>\n",
       "    <tr>\n",
       "      <th>misc_feature</th>\n",
       "      <td>837</td>\n",
       "    </tr>\n",
       "    <tr>\n",
       "      <th>pool_qc</th>\n",
       "      <td>874</td>\n",
       "    </tr>\n",
       "  </tbody>\n",
       "</table>\n",
       "</div>"
      ],
      "text/plain": [
       "                null_count\n",
       "alley                  820\n",
       "bsmt_cond               25\n",
       "bsmt_exposure           25\n",
       "bsmt_qual               25\n",
       "bsmtfin_type_1          25\n",
       "bsmtfin_type_2          25\n",
       "electrical               1\n",
       "fence                  706\n",
       "fireplace_qu           422\n",
       "garage_cond             45\n",
       "garage_finish           45\n",
       "garage_qual             45\n",
       "garage_type             44\n",
       "mas_vnr_type             1\n",
       "misc_feature           837\n",
       "pool_qc                874"
      ]
     },
     "execution_count": 24,
     "metadata": {},
     "output_type": "execute_result"
    }
   ],
   "source": [
    "#Getting the total null values for the Categorical columns in test dataset\n",
    "test_null_cat = pd.DataFrame(test.isnull().sum(), columns=['null_count'])\n",
    "test_null_cat = test_null_cat[test_null_cat['null_count'] > 0].sort_values('null_count', ascending=False).sort_index()\n",
    "test_null_cat"
   ]
  },
  {
   "cell_type": "markdown",
   "metadata": {},
   "source": [
    "##### Cleaning column alley null values"
   ]
  },
  {
   "cell_type": "code",
   "execution_count": 25,
   "metadata": {
    "scrolled": true
   },
   "outputs": [
    {
     "data": {
      "text/plain": [
       "Grvl    35\n",
       "Pave    23\n",
       "Name: alley, dtype: int64"
      ]
     },
     "execution_count": 25,
     "metadata": {},
     "output_type": "execute_result"
    }
   ],
   "source": [
    "# Checking non null values\n",
    "test['alley'].value_counts()"
   ]
  },
  {
   "cell_type": "code",
   "execution_count": 26,
   "metadata": {
    "scrolled": true
   },
   "outputs": [
    {
     "data": {
      "text/plain": [
       "820"
      ]
     },
     "execution_count": 26,
     "metadata": {},
     "output_type": "execute_result"
    }
   ],
   "source": [
    "# Checking total null values\n",
    "test['alley'].isnull().sum()"
   ]
  },
  {
   "cell_type": "code",
   "execution_count": 27,
   "metadata": {},
   "outputs": [
    {
     "data": {
      "text/plain": [
       "93.39407744874715"
      ]
     },
     "execution_count": 27,
     "metadata": {},
     "output_type": "execute_result"
    }
   ],
   "source": [
    "# Percentage of null values for alley in test dataset\n",
    "(test['alley'].isnull().sum())/test.shape[0]*100"
   ]
  },
  {
   "cell_type": "markdown",
   "metadata": {},
   "source": [
    "- As there is a total of 93.39% null values in Alley which is a large amount of null data similar to test dataset, this possibily not likely to affect the pricing of the house. Thus, column Alley shall be dropped."
   ]
  },
  {
   "cell_type": "code",
   "execution_count": 28,
   "metadata": {},
   "outputs": [],
   "source": [
    "test.drop(columns = 'alley', inplace=True)"
   ]
  },
  {
   "cell_type": "code",
   "execution_count": 29,
   "metadata": {
    "scrolled": false
   },
   "outputs": [
    {
     "data": {
      "text/plain": [
       "(878, 79)"
      ]
     },
     "execution_count": 29,
     "metadata": {},
     "output_type": "execute_result"
    }
   ],
   "source": [
    "test.shape"
   ]
  },
  {
   "cell_type": "markdown",
   "metadata": {},
   "source": [
    "- Total columns for test dataset is now 79"
   ]
  },
  {
   "cell_type": "markdown",
   "metadata": {},
   "source": [
    "##### Cleaning column bsmt_cond null values"
   ]
  },
  {
   "cell_type": "code",
   "execution_count": 30,
   "metadata": {},
   "outputs": [
    {
     "data": {
      "text/plain": [
       "853"
      ]
     },
     "execution_count": 30,
     "metadata": {},
     "output_type": "execute_result"
    }
   ],
   "source": [
    "# Checking total non null values initially\n",
    "test['bsmt_cond'].value_counts().sum()"
   ]
  },
  {
   "cell_type": "code",
   "execution_count": 31,
   "metadata": {},
   "outputs": [
    {
     "data": {
      "text/plain": [
       "TA    781\n",
       "Fa     39\n",
       "Gd     33\n",
       "Name: bsmt_cond, dtype: int64"
      ]
     },
     "execution_count": 31,
     "metadata": {},
     "output_type": "execute_result"
    }
   ],
   "source": [
    "# Checking breakdown of non null values initially\n",
    "test['bsmt_cond'].value_counts()"
   ]
  },
  {
   "cell_type": "code",
   "execution_count": 32,
   "metadata": {},
   "outputs": [
    {
     "data": {
      "text/plain": [
       "25"
      ]
     },
     "execution_count": 32,
     "metadata": {},
     "output_type": "execute_result"
    }
   ],
   "source": [
    "# Checking total null values\n",
    "test['bsmt_cond'].isnull().sum()"
   ]
  },
  {
   "cell_type": "markdown",
   "metadata": {},
   "source": [
    "- The column bsmt_cond for number of null values seemed to be relatively reasonable while comparing it to the entire test dataset\n",
    "\n",
    "\n",
    "- From the data dictionary, it is noted that the NA value for bsmt_cond is representing no basement\n",
    "\n",
    "\n",
    "- Thus, assigning the NaN values as a neutral category for further investigation"
   ]
  },
  {
   "cell_type": "code",
   "execution_count": 33,
   "metadata": {},
   "outputs": [
    {
     "data": {
      "text/plain": [
       "0"
      ]
     },
     "execution_count": 33,
     "metadata": {},
     "output_type": "execute_result"
    }
   ],
   "source": [
    "#Setting null values to 'None' to be an included value for categorical test dataset\n",
    "test.loc[test[test['bsmt_cond'].isnull()].index, 'bsmt_cond'] = 'None'\n",
    "\n",
    "# Checking updated total null values\n",
    "test['bsmt_cond'].isnull().sum()"
   ]
  },
  {
   "cell_type": "code",
   "execution_count": 34,
   "metadata": {
    "scrolled": true
   },
   "outputs": [
    {
     "data": {
      "text/plain": [
       "TA      781\n",
       "Fa       39\n",
       "Gd       33\n",
       "None     25\n",
       "Name: bsmt_cond, dtype: int64"
      ]
     },
     "execution_count": 34,
     "metadata": {},
     "output_type": "execute_result"
    }
   ],
   "source": [
    "# Checking the null values are in the dataset as value counts\n",
    "test['bsmt_cond'].value_counts()"
   ]
  },
  {
   "cell_type": "code",
   "execution_count": 35,
   "metadata": {},
   "outputs": [
    {
     "data": {
      "text/plain": [
       "878"
      ]
     },
     "execution_count": 35,
     "metadata": {},
     "output_type": "execute_result"
    }
   ],
   "source": [
    "# Checking updated total non null values\n",
    "test['bsmt_cond'].value_counts().sum()"
   ]
  },
  {
   "cell_type": "markdown",
   "metadata": {},
   "source": [
    "##### Cleaning column bsmt_exposure null values"
   ]
  },
  {
   "cell_type": "code",
   "execution_count": 36,
   "metadata": {},
   "outputs": [
    {
     "data": {
      "text/plain": [
       "853"
      ]
     },
     "execution_count": 36,
     "metadata": {},
     "output_type": "execute_result"
    }
   ],
   "source": [
    "# Checking total non null values initially\n",
    "test['bsmt_exposure'].value_counts().sum()"
   ]
  },
  {
   "cell_type": "code",
   "execution_count": 37,
   "metadata": {},
   "outputs": [
    {
     "data": {
      "text/plain": [
       "No    567\n",
       "Av    130\n",
       "Gd     80\n",
       "Mn     76\n",
       "Name: bsmt_exposure, dtype: int64"
      ]
     },
     "execution_count": 37,
     "metadata": {},
     "output_type": "execute_result"
    }
   ],
   "source": [
    "# Checking breakdown of non null values initially\n",
    "test['bsmt_exposure'].value_counts()"
   ]
  },
  {
   "cell_type": "code",
   "execution_count": 38,
   "metadata": {},
   "outputs": [
    {
     "data": {
      "text/plain": [
       "25"
      ]
     },
     "execution_count": 38,
     "metadata": {},
     "output_type": "execute_result"
    }
   ],
   "source": [
    "# Checking total null values\n",
    "test['bsmt_exposure'].isnull().sum()"
   ]
  },
  {
   "cell_type": "markdown",
   "metadata": {},
   "source": [
    "- The column bsmt_exposure for number of null values seemed to be relatively reasonable while comparing it to the entire test dataset\n",
    "\n",
    "\n",
    "- From the data dictionary, it is noted that the NA value for bsmt_exposure is representing no basement\n",
    "\n",
    "\n",
    "- Thus, assigning the NaN values as a neutral category for further investigation"
   ]
  },
  {
   "cell_type": "code",
   "execution_count": 39,
   "metadata": {},
   "outputs": [
    {
     "data": {
      "text/plain": [
       "0"
      ]
     },
     "execution_count": 39,
     "metadata": {},
     "output_type": "execute_result"
    }
   ],
   "source": [
    "#Setting null values to 'None' to be an included value for categorical test dataset\n",
    "test.loc[test[test['bsmt_exposure'].isnull()].index, 'bsmt_exposure'] = 'None'\n",
    "\n",
    "# Checking updated total null values\n",
    "test['bsmt_exposure'].isnull().sum()"
   ]
  },
  {
   "cell_type": "code",
   "execution_count": 40,
   "metadata": {
    "scrolled": true
   },
   "outputs": [
    {
     "data": {
      "text/plain": [
       "No      567\n",
       "Av      130\n",
       "Gd       80\n",
       "Mn       76\n",
       "None     25\n",
       "Name: bsmt_exposure, dtype: int64"
      ]
     },
     "execution_count": 40,
     "metadata": {},
     "output_type": "execute_result"
    }
   ],
   "source": [
    "# Checking the null values are in the dataset as value counts\n",
    "test['bsmt_exposure'].value_counts()"
   ]
  },
  {
   "cell_type": "code",
   "execution_count": 41,
   "metadata": {},
   "outputs": [
    {
     "data": {
      "text/plain": [
       "878"
      ]
     },
     "execution_count": 41,
     "metadata": {},
     "output_type": "execute_result"
    }
   ],
   "source": [
    "# Checking updated total non null values\n",
    "test['bsmt_exposure'].value_counts().sum()"
   ]
  },
  {
   "cell_type": "markdown",
   "metadata": {},
   "source": [
    "##### Cleaning column bsmt_qual null values"
   ]
  },
  {
   "cell_type": "code",
   "execution_count": 42,
   "metadata": {},
   "outputs": [
    {
     "data": {
      "text/plain": [
       "853"
      ]
     },
     "execution_count": 42,
     "metadata": {},
     "output_type": "execute_result"
    }
   ],
   "source": [
    "# Checking total non null values initially\n",
    "test['bsmt_qual'].value_counts().sum()"
   ]
  },
  {
   "cell_type": "code",
   "execution_count": 43,
   "metadata": {},
   "outputs": [
    {
     "data": {
      "text/plain": [
       "TA    396\n",
       "Gd    355\n",
       "Ex     73\n",
       "Fa     28\n",
       "Po      1\n",
       "Name: bsmt_qual, dtype: int64"
      ]
     },
     "execution_count": 43,
     "metadata": {},
     "output_type": "execute_result"
    }
   ],
   "source": [
    "# Checking breakdown of non null values initially\n",
    "test['bsmt_qual'].value_counts()"
   ]
  },
  {
   "cell_type": "code",
   "execution_count": 44,
   "metadata": {},
   "outputs": [
    {
     "data": {
      "text/plain": [
       "25"
      ]
     },
     "execution_count": 44,
     "metadata": {},
     "output_type": "execute_result"
    }
   ],
   "source": [
    "# Checking total null values\n",
    "test['bsmt_qual'].isnull().sum()"
   ]
  },
  {
   "cell_type": "markdown",
   "metadata": {},
   "source": [
    "- The column bsmt_qual for number of null values seemed to be relatively reasonable while comparing it to the entire test dataset\n",
    "\n",
    "\n",
    "- From the data dictionary, it is noted that the NA value for bsmt_qual is representing no basement\n",
    "\n",
    "\n",
    "- Thus, assigning the NaN values as a neutral category for further investigation"
   ]
  },
  {
   "cell_type": "code",
   "execution_count": 45,
   "metadata": {},
   "outputs": [
    {
     "data": {
      "text/plain": [
       "0"
      ]
     },
     "execution_count": 45,
     "metadata": {},
     "output_type": "execute_result"
    }
   ],
   "source": [
    "#Setting null values to 'None' to be an included value for categorical test dataset\n",
    "test.loc[test[test['bsmt_qual'].isnull()].index, 'bsmt_qual'] = 'None'\n",
    "\n",
    "# Checking updated total null values\n",
    "test['bsmt_qual'].isnull().sum()"
   ]
  },
  {
   "cell_type": "code",
   "execution_count": 46,
   "metadata": {
    "scrolled": true
   },
   "outputs": [
    {
     "data": {
      "text/plain": [
       "TA      396\n",
       "Gd      355\n",
       "Ex       73\n",
       "Fa       28\n",
       "None     25\n",
       "Po        1\n",
       "Name: bsmt_qual, dtype: int64"
      ]
     },
     "execution_count": 46,
     "metadata": {},
     "output_type": "execute_result"
    }
   ],
   "source": [
    "# Checking the null values are in the dataset as value counts\n",
    "test['bsmt_qual'].value_counts()"
   ]
  },
  {
   "cell_type": "code",
   "execution_count": 47,
   "metadata": {},
   "outputs": [
    {
     "data": {
      "text/plain": [
       "878"
      ]
     },
     "execution_count": 47,
     "metadata": {},
     "output_type": "execute_result"
    }
   ],
   "source": [
    "# Checking updated total non null values\n",
    "test['bsmt_qual'].value_counts().sum()"
   ]
  },
  {
   "cell_type": "markdown",
   "metadata": {},
   "source": [
    "##### Cleaning column bsmtfin_type_1 null values"
   ]
  },
  {
   "cell_type": "code",
   "execution_count": 48,
   "metadata": {},
   "outputs": [
    {
     "data": {
      "text/plain": [
       "853"
      ]
     },
     "execution_count": 48,
     "metadata": {},
     "output_type": "execute_result"
    }
   ],
   "source": [
    "# Checking total non null values initially\n",
    "test['bsmtfin_type_1'].value_counts().sum()"
   ]
  },
  {
   "cell_type": "code",
   "execution_count": 49,
   "metadata": {},
   "outputs": [
    {
     "data": {
      "text/plain": [
       "Unf    248\n",
       "GLQ    243\n",
       "ALQ    136\n",
       "Rec    105\n",
       "BLQ     69\n",
       "LwQ     52\n",
       "Name: bsmtfin_type_1, dtype: int64"
      ]
     },
     "execution_count": 49,
     "metadata": {},
     "output_type": "execute_result"
    }
   ],
   "source": [
    "# Checking breakdown of non null values initially\n",
    "test['bsmtfin_type_1'].value_counts()"
   ]
  },
  {
   "cell_type": "code",
   "execution_count": 50,
   "metadata": {},
   "outputs": [
    {
     "data": {
      "text/plain": [
       "25"
      ]
     },
     "execution_count": 50,
     "metadata": {},
     "output_type": "execute_result"
    }
   ],
   "source": [
    "# Checking total null values\n",
    "test['bsmtfin_type_1'].isnull().sum()"
   ]
  },
  {
   "cell_type": "markdown",
   "metadata": {},
   "source": [
    "- The column bsmtfin_type_1 for number of null values seemed to be relatively reasonable while comparing it to the entire test dataset\n",
    "\n",
    "\n",
    "- From the data dictionary, it is noted that the NA value for bsmtfin_type_1 is representing no basement\n",
    "\n",
    "\n",
    "- Thus, assigning the NaN values as a neutral category for further investigation"
   ]
  },
  {
   "cell_type": "code",
   "execution_count": 51,
   "metadata": {},
   "outputs": [
    {
     "data": {
      "text/plain": [
       "0"
      ]
     },
     "execution_count": 51,
     "metadata": {},
     "output_type": "execute_result"
    }
   ],
   "source": [
    "#Setting null values to 'None' to be an included value for categorical test dataset\n",
    "test.loc[test[test['bsmtfin_type_1'].isnull()].index, 'bsmtfin_type_1'] = 'None'\n",
    "\n",
    "# Checking updated total null values\n",
    "test['bsmtfin_type_1'].isnull().sum()"
   ]
  },
  {
   "cell_type": "code",
   "execution_count": 52,
   "metadata": {
    "scrolled": true
   },
   "outputs": [
    {
     "data": {
      "text/plain": [
       "Unf     248\n",
       "GLQ     243\n",
       "ALQ     136\n",
       "Rec     105\n",
       "BLQ      69\n",
       "LwQ      52\n",
       "None     25\n",
       "Name: bsmtfin_type_1, dtype: int64"
      ]
     },
     "execution_count": 52,
     "metadata": {},
     "output_type": "execute_result"
    }
   ],
   "source": [
    "# Checking the null values are in the dataset as value counts\n",
    "test['bsmtfin_type_1'].value_counts()"
   ]
  },
  {
   "cell_type": "code",
   "execution_count": 53,
   "metadata": {
    "scrolled": true
   },
   "outputs": [
    {
     "data": {
      "text/plain": [
       "878"
      ]
     },
     "execution_count": 53,
     "metadata": {},
     "output_type": "execute_result"
    }
   ],
   "source": [
    "# Checking updated total non null values\n",
    "test['bsmtfin_type_1'].value_counts().sum()"
   ]
  },
  {
   "cell_type": "markdown",
   "metadata": {},
   "source": [
    "##### Cleaning column bsmtfin_type_2 null values"
   ]
  },
  {
   "cell_type": "code",
   "execution_count": 54,
   "metadata": {},
   "outputs": [
    {
     "data": {
      "text/plain": [
       "853"
      ]
     },
     "execution_count": 54,
     "metadata": {},
     "output_type": "execute_result"
    }
   ],
   "source": [
    "# Checking total non null values initially\n",
    "test['bsmtfin_type_2'].value_counts().sum()"
   ]
  },
  {
   "cell_type": "code",
   "execution_count": 55,
   "metadata": {},
   "outputs": [
    {
     "data": {
      "text/plain": [
       "Unf    749\n",
       "LwQ     29\n",
       "Rec     26\n",
       "BLQ     20\n",
       "ALQ     18\n",
       "GLQ     11\n",
       "Name: bsmtfin_type_2, dtype: int64"
      ]
     },
     "execution_count": 55,
     "metadata": {},
     "output_type": "execute_result"
    }
   ],
   "source": [
    "# Checking breakdown of non null values initially\n",
    "test['bsmtfin_type_2'].value_counts()"
   ]
  },
  {
   "cell_type": "code",
   "execution_count": 56,
   "metadata": {},
   "outputs": [
    {
     "data": {
      "text/plain": [
       "25"
      ]
     },
     "execution_count": 56,
     "metadata": {},
     "output_type": "execute_result"
    }
   ],
   "source": [
    "# Checking total null values\n",
    "test['bsmtfin_type_2'].isnull().sum()"
   ]
  },
  {
   "cell_type": "markdown",
   "metadata": {},
   "source": [
    "- The column bsmtfin_type_2 for number of null values seemed to be relatively reasonable while comparing it to the entire test dataset\n",
    "\n",
    "\n",
    "- From the data dictionary, it is noted that the NA value for bsmtfin_type_2 is representing no basement\n",
    "\n",
    "\n",
    "- Thus, assigning the NaN values as a neutral category for further investigation"
   ]
  },
  {
   "cell_type": "code",
   "execution_count": 57,
   "metadata": {},
   "outputs": [
    {
     "data": {
      "text/plain": [
       "0"
      ]
     },
     "execution_count": 57,
     "metadata": {},
     "output_type": "execute_result"
    }
   ],
   "source": [
    "#Setting null values to 'None' to be an included value for categorical test dataset\n",
    "test.loc[test[test['bsmtfin_type_2'].isnull()].index, 'bsmtfin_type_2'] = 'None'\n",
    "\n",
    "# Checking updated total null values\n",
    "test['bsmtfin_type_2'].isnull().sum()"
   ]
  },
  {
   "cell_type": "code",
   "execution_count": 58,
   "metadata": {
    "scrolled": true
   },
   "outputs": [
    {
     "data": {
      "text/plain": [
       "Unf     749\n",
       "LwQ      29\n",
       "Rec      26\n",
       "None     25\n",
       "BLQ      20\n",
       "ALQ      18\n",
       "GLQ      11\n",
       "Name: bsmtfin_type_2, dtype: int64"
      ]
     },
     "execution_count": 58,
     "metadata": {},
     "output_type": "execute_result"
    }
   ],
   "source": [
    "# Checking the null values are in the dataset as value counts\n",
    "test['bsmtfin_type_2'].value_counts()"
   ]
  },
  {
   "cell_type": "code",
   "execution_count": 59,
   "metadata": {
    "scrolled": false
   },
   "outputs": [
    {
     "data": {
      "text/plain": [
       "878"
      ]
     },
     "execution_count": 59,
     "metadata": {},
     "output_type": "execute_result"
    }
   ],
   "source": [
    "# Checking updated total non null values\n",
    "test['bsmtfin_type_2'].value_counts().sum()"
   ]
  },
  {
   "cell_type": "markdown",
   "metadata": {},
   "source": [
    "##### Cleaning column electrical null values"
   ]
  },
  {
   "cell_type": "code",
   "execution_count": 60,
   "metadata": {
    "scrolled": true
   },
   "outputs": [
    {
     "data": {
      "text/plain": [
       "877"
      ]
     },
     "execution_count": 60,
     "metadata": {},
     "output_type": "execute_result"
    }
   ],
   "source": [
    "# Checking total non null values initially\n",
    "test['electrical'].value_counts().sum()"
   ]
  },
  {
   "cell_type": "code",
   "execution_count": 61,
   "metadata": {},
   "outputs": [
    {
     "data": {
      "text/plain": [
       "SBrkr    813\n",
       "FuseA     48\n",
       "FuseF     15\n",
       "FuseP      1\n",
       "Name: electrical, dtype: int64"
      ]
     },
     "execution_count": 61,
     "metadata": {},
     "output_type": "execute_result"
    }
   ],
   "source": [
    "# Checking breakdown of non null values initially\n",
    "test['electrical'].value_counts()"
   ]
  },
  {
   "cell_type": "code",
   "execution_count": 62,
   "metadata": {},
   "outputs": [
    {
     "data": {
      "text/plain": [
       "1"
      ]
     },
     "execution_count": 62,
     "metadata": {},
     "output_type": "execute_result"
    }
   ],
   "source": [
    "# Checking total null values\n",
    "test['electrical'].isnull().sum()"
   ]
  },
  {
   "cell_type": "markdown",
   "metadata": {},
   "source": [
    "- Checking the most frequently used categorical variable for electrical coulmn among the neighborhoods."
   ]
  },
  {
   "cell_type": "code",
   "execution_count": 63,
   "metadata": {
    "scrolled": true
   },
   "outputs": [
    {
     "data": {
      "text/html": [
       "<div>\n",
       "<style scoped>\n",
       "    .dataframe tbody tr th:only-of-type {\n",
       "        vertical-align: middle;\n",
       "    }\n",
       "\n",
       "    .dataframe tbody tr th {\n",
       "        vertical-align: top;\n",
       "    }\n",
       "\n",
       "    .dataframe thead th {\n",
       "        text-align: right;\n",
       "    }\n",
       "</style>\n",
       "<table border=\"1\" class=\"dataframe\">\n",
       "  <thead>\n",
       "    <tr style=\"text-align: right;\">\n",
       "      <th></th>\n",
       "      <th>count</th>\n",
       "      <th>unique</th>\n",
       "      <th>top</th>\n",
       "      <th>freq</th>\n",
       "    </tr>\n",
       "    <tr>\n",
       "      <th>neighborhood</th>\n",
       "      <th></th>\n",
       "      <th></th>\n",
       "      <th></th>\n",
       "      <th></th>\n",
       "    </tr>\n",
       "  </thead>\n",
       "  <tbody>\n",
       "    <tr>\n",
       "      <th>Blmngtn</th>\n",
       "      <td>6</td>\n",
       "      <td>1</td>\n",
       "      <td>SBrkr</td>\n",
       "      <td>6</td>\n",
       "    </tr>\n",
       "    <tr>\n",
       "      <th>Blueste</th>\n",
       "      <td>4</td>\n",
       "      <td>1</td>\n",
       "      <td>SBrkr</td>\n",
       "      <td>4</td>\n",
       "    </tr>\n",
       "    <tr>\n",
       "      <th>BrDale</th>\n",
       "      <td>11</td>\n",
       "      <td>1</td>\n",
       "      <td>SBrkr</td>\n",
       "      <td>11</td>\n",
       "    </tr>\n",
       "    <tr>\n",
       "      <th>BrkSide</th>\n",
       "      <td>32</td>\n",
       "      <td>3</td>\n",
       "      <td>SBrkr</td>\n",
       "      <td>24</td>\n",
       "    </tr>\n",
       "    <tr>\n",
       "      <th>ClearCr</th>\n",
       "      <td>17</td>\n",
       "      <td>1</td>\n",
       "      <td>SBrkr</td>\n",
       "      <td>17</td>\n",
       "    </tr>\n",
       "    <tr>\n",
       "      <th>CollgCr</th>\n",
       "      <td>87</td>\n",
       "      <td>1</td>\n",
       "      <td>SBrkr</td>\n",
       "      <td>87</td>\n",
       "    </tr>\n",
       "    <tr>\n",
       "      <th>Crawfor</th>\n",
       "      <td>32</td>\n",
       "      <td>3</td>\n",
       "      <td>SBrkr</td>\n",
       "      <td>28</td>\n",
       "    </tr>\n",
       "    <tr>\n",
       "      <th>Edwards</th>\n",
       "      <td>50</td>\n",
       "      <td>3</td>\n",
       "      <td>SBrkr</td>\n",
       "      <td>41</td>\n",
       "    </tr>\n",
       "    <tr>\n",
       "      <th>Gilbert</th>\n",
       "      <td>49</td>\n",
       "      <td>2</td>\n",
       "      <td>SBrkr</td>\n",
       "      <td>48</td>\n",
       "    </tr>\n",
       "    <tr>\n",
       "      <th>Greens</th>\n",
       "      <td>5</td>\n",
       "      <td>1</td>\n",
       "      <td>SBrkr</td>\n",
       "      <td>5</td>\n",
       "    </tr>\n",
       "    <tr>\n",
       "      <th>IDOTRR</th>\n",
       "      <td>24</td>\n",
       "      <td>3</td>\n",
       "      <td>SBrkr</td>\n",
       "      <td>17</td>\n",
       "    </tr>\n",
       "    <tr>\n",
       "      <th>MeadowV</th>\n",
       "      <td>13</td>\n",
       "      <td>1</td>\n",
       "      <td>SBrkr</td>\n",
       "      <td>13</td>\n",
       "    </tr>\n",
       "    <tr>\n",
       "      <th>Mitchel</th>\n",
       "      <td>32</td>\n",
       "      <td>1</td>\n",
       "      <td>SBrkr</td>\n",
       "      <td>32</td>\n",
       "    </tr>\n",
       "    <tr>\n",
       "      <th>NAmes</th>\n",
       "      <td>133</td>\n",
       "      <td>2</td>\n",
       "      <td>SBrkr</td>\n",
       "      <td>121</td>\n",
       "    </tr>\n",
       "    <tr>\n",
       "      <th>NPkVill</th>\n",
       "      <td>6</td>\n",
       "      <td>1</td>\n",
       "      <td>SBrkr</td>\n",
       "      <td>6</td>\n",
       "    </tr>\n",
       "    <tr>\n",
       "      <th>NWAmes</th>\n",
       "      <td>44</td>\n",
       "      <td>1</td>\n",
       "      <td>SBrkr</td>\n",
       "      <td>44</td>\n",
       "    </tr>\n",
       "    <tr>\n",
       "      <th>NoRidge</th>\n",
       "      <td>23</td>\n",
       "      <td>1</td>\n",
       "      <td>SBrkr</td>\n",
       "      <td>23</td>\n",
       "    </tr>\n",
       "    <tr>\n",
       "      <th>NridgHt</th>\n",
       "      <td>44</td>\n",
       "      <td>1</td>\n",
       "      <td>SBrkr</td>\n",
       "      <td>44</td>\n",
       "    </tr>\n",
       "    <tr>\n",
       "      <th>OldTown</th>\n",
       "      <td>76</td>\n",
       "      <td>4</td>\n",
       "      <td>SBrkr</td>\n",
       "      <td>57</td>\n",
       "    </tr>\n",
       "    <tr>\n",
       "      <th>SWISU</th>\n",
       "      <td>16</td>\n",
       "      <td>2</td>\n",
       "      <td>SBrkr</td>\n",
       "      <td>15</td>\n",
       "    </tr>\n",
       "    <tr>\n",
       "      <th>Sawyer</th>\n",
       "      <td>40</td>\n",
       "      <td>2</td>\n",
       "      <td>SBrkr</td>\n",
       "      <td>39</td>\n",
       "    </tr>\n",
       "    <tr>\n",
       "      <th>SawyerW</th>\n",
       "      <td>38</td>\n",
       "      <td>2</td>\n",
       "      <td>SBrkr</td>\n",
       "      <td>36</td>\n",
       "    </tr>\n",
       "    <tr>\n",
       "      <th>Somerst</th>\n",
       "      <td>52</td>\n",
       "      <td>1</td>\n",
       "      <td>SBrkr</td>\n",
       "      <td>52</td>\n",
       "    </tr>\n",
       "    <tr>\n",
       "      <th>StoneBr</th>\n",
       "      <td>13</td>\n",
       "      <td>1</td>\n",
       "      <td>SBrkr</td>\n",
       "      <td>13</td>\n",
       "    </tr>\n",
       "    <tr>\n",
       "      <th>Timber</th>\n",
       "      <td>23</td>\n",
       "      <td>1</td>\n",
       "      <td>SBrkr</td>\n",
       "      <td>23</td>\n",
       "    </tr>\n",
       "    <tr>\n",
       "      <th>Veenker</th>\n",
       "      <td>7</td>\n",
       "      <td>1</td>\n",
       "      <td>SBrkr</td>\n",
       "      <td>7</td>\n",
       "    </tr>\n",
       "  </tbody>\n",
       "</table>\n",
       "</div>"
      ],
      "text/plain": [
       "             count unique    top freq\n",
       "neighborhood                         \n",
       "Blmngtn          6      1  SBrkr    6\n",
       "Blueste          4      1  SBrkr    4\n",
       "BrDale          11      1  SBrkr   11\n",
       "BrkSide         32      3  SBrkr   24\n",
       "ClearCr         17      1  SBrkr   17\n",
       "CollgCr         87      1  SBrkr   87\n",
       "Crawfor         32      3  SBrkr   28\n",
       "Edwards         50      3  SBrkr   41\n",
       "Gilbert         49      2  SBrkr   48\n",
       "Greens           5      1  SBrkr    5\n",
       "IDOTRR          24      3  SBrkr   17\n",
       "MeadowV         13      1  SBrkr   13\n",
       "Mitchel         32      1  SBrkr   32\n",
       "NAmes          133      2  SBrkr  121\n",
       "NPkVill          6      1  SBrkr    6\n",
       "NWAmes          44      1  SBrkr   44\n",
       "NoRidge         23      1  SBrkr   23\n",
       "NridgHt         44      1  SBrkr   44\n",
       "OldTown         76      4  SBrkr   57\n",
       "SWISU           16      2  SBrkr   15\n",
       "Sawyer          40      2  SBrkr   39\n",
       "SawyerW         38      2  SBrkr   36\n",
       "Somerst         52      1  SBrkr   52\n",
       "StoneBr         13      1  SBrkr   13\n",
       "Timber          23      1  SBrkr   23\n",
       "Veenker          7      1  SBrkr    7"
      ]
     },
     "execution_count": 63,
     "metadata": {},
     "output_type": "execute_result"
    }
   ],
   "source": [
    "# Grouping by neighborhood to check the mostly used electrical component\n",
    "test.groupby('neighborhood')['electrical'].describe()"
   ]
  },
  {
   "cell_type": "markdown",
   "metadata": {},
   "source": [
    "- As there is only 1 null value in column Electrical, the value will be kept.\n",
    "\n",
    "\n",
    "- However, there is no 'none' category value in column Electrical from the data dictionary.\n",
    "\n",
    "\n",
    "- Thus, assigning the null value as a Standard Circuit Breakers & Romex (SBrkr) which is the mostly used category for column Electrical among the neighborhoods."
   ]
  },
  {
   "cell_type": "code",
   "execution_count": 64,
   "metadata": {},
   "outputs": [
    {
     "data": {
      "text/plain": [
       "0"
      ]
     },
     "execution_count": 64,
     "metadata": {},
     "output_type": "execute_result"
    }
   ],
   "source": [
    "#Setting null values of electrical col to 'SBrkr' to be an included value for categorical test dataset\n",
    "test.loc[test[test['electrical'].isnull()].index, 'electrical'] = 'SBrkr'\n",
    "\n",
    "# Checking updated total null values\n",
    "test['electrical'].isnull().sum()"
   ]
  },
  {
   "cell_type": "code",
   "execution_count": 65,
   "metadata": {
    "scrolled": true
   },
   "outputs": [
    {
     "data": {
      "text/plain": [
       "SBrkr    814\n",
       "FuseA     48\n",
       "FuseF     15\n",
       "FuseP      1\n",
       "Name: electrical, dtype: int64"
      ]
     },
     "execution_count": 65,
     "metadata": {},
     "output_type": "execute_result"
    }
   ],
   "source": [
    "# Checking the null values are in the dataset as value counts\n",
    "test['electrical'].value_counts()"
   ]
  },
  {
   "cell_type": "code",
   "execution_count": 66,
   "metadata": {
    "scrolled": false
   },
   "outputs": [
    {
     "data": {
      "text/plain": [
       "878"
      ]
     },
     "execution_count": 66,
     "metadata": {},
     "output_type": "execute_result"
    }
   ],
   "source": [
    "# Checking updated total non null values\n",
    "test['electrical'].value_counts().sum()"
   ]
  },
  {
   "cell_type": "markdown",
   "metadata": {},
   "source": [
    "##### Cleaning column fence null values"
   ]
  },
  {
   "cell_type": "code",
   "execution_count": 67,
   "metadata": {},
   "outputs": [
    {
     "data": {
      "text/plain": [
       "172"
      ]
     },
     "execution_count": 67,
     "metadata": {},
     "output_type": "execute_result"
    }
   ],
   "source": [
    "# Checking total non null values initially\n",
    "test['fence'].value_counts().sum()"
   ]
  },
  {
   "cell_type": "code",
   "execution_count": 68,
   "metadata": {},
   "outputs": [
    {
     "data": {
      "text/plain": [
       "MnPrv    103\n",
       "GdPrv     35\n",
       "GdWo      32\n",
       "MnWw       2\n",
       "Name: fence, dtype: int64"
      ]
     },
     "execution_count": 68,
     "metadata": {},
     "output_type": "execute_result"
    }
   ],
   "source": [
    "# Checking breakdown of non null values initially\n",
    "test['fence'].value_counts()"
   ]
  },
  {
   "cell_type": "code",
   "execution_count": 69,
   "metadata": {},
   "outputs": [
    {
     "data": {
      "text/plain": [
       "706"
      ]
     },
     "execution_count": 69,
     "metadata": {},
     "output_type": "execute_result"
    }
   ],
   "source": [
    "# Checking total null values\n",
    "test['fence'].isnull().sum()"
   ]
  },
  {
   "cell_type": "markdown",
   "metadata": {},
   "source": [
    "- Although it seems that column Fence has many NaN values, there is a possibility that it might be a valuable predictor for pricing.\n",
    "\n",
    "\n",
    "- From the data dictionary, it is noted that the NA value for Fence is representing no Fence.\n",
    "\n",
    "\n",
    "- Thus, assigning the NaN values as a neutral category for further investigation"
   ]
  },
  {
   "cell_type": "code",
   "execution_count": 70,
   "metadata": {},
   "outputs": [
    {
     "data": {
      "text/plain": [
       "0"
      ]
     },
     "execution_count": 70,
     "metadata": {},
     "output_type": "execute_result"
    }
   ],
   "source": [
    "#Setting null values to 'None' to be an included value for categorical test dataset\n",
    "test.loc[test[test['fence'].isnull()].index, 'fence'] = 'None'\n",
    "\n",
    "# Checking updated total null values\n",
    "test['fence'].isnull().sum()"
   ]
  },
  {
   "cell_type": "code",
   "execution_count": 71,
   "metadata": {
    "scrolled": true
   },
   "outputs": [
    {
     "data": {
      "text/plain": [
       "None     706\n",
       "MnPrv    103\n",
       "GdPrv     35\n",
       "GdWo      32\n",
       "MnWw       2\n",
       "Name: fence, dtype: int64"
      ]
     },
     "execution_count": 71,
     "metadata": {},
     "output_type": "execute_result"
    }
   ],
   "source": [
    "# Checking the null values are in the dataset as value counts\n",
    "test['fence'].value_counts()"
   ]
  },
  {
   "cell_type": "code",
   "execution_count": 72,
   "metadata": {
    "scrolled": false
   },
   "outputs": [
    {
     "data": {
      "text/plain": [
       "878"
      ]
     },
     "execution_count": 72,
     "metadata": {},
     "output_type": "execute_result"
    }
   ],
   "source": [
    "# Checking updated total non null values\n",
    "test['fence'].value_counts().sum()"
   ]
  },
  {
   "cell_type": "markdown",
   "metadata": {},
   "source": [
    "##### Cleaning column fireplace_qu null values"
   ]
  },
  {
   "cell_type": "code",
   "execution_count": 73,
   "metadata": {},
   "outputs": [
    {
     "data": {
      "text/plain": [
       "456"
      ]
     },
     "execution_count": 73,
     "metadata": {},
     "output_type": "execute_result"
    }
   ],
   "source": [
    "# Checking total non null values initially\n",
    "test['fireplace_qu'].value_counts().sum()"
   ]
  },
  {
   "cell_type": "code",
   "execution_count": 74,
   "metadata": {},
   "outputs": [
    {
     "data": {
      "text/plain": [
       "Gd    220\n",
       "TA    193\n",
       "Fa     16\n",
       "Po     15\n",
       "Ex     12\n",
       "Name: fireplace_qu, dtype: int64"
      ]
     },
     "execution_count": 74,
     "metadata": {},
     "output_type": "execute_result"
    }
   ],
   "source": [
    "# Checking breakdown of non null values initially\n",
    "test['fireplace_qu'].value_counts()"
   ]
  },
  {
   "cell_type": "code",
   "execution_count": 75,
   "metadata": {},
   "outputs": [
    {
     "data": {
      "text/plain": [
       "422"
      ]
     },
     "execution_count": 75,
     "metadata": {},
     "output_type": "execute_result"
    }
   ],
   "source": [
    "# Checking total null values\n",
    "test['fireplace_qu'].isnull().sum()"
   ]
  },
  {
   "cell_type": "markdown",
   "metadata": {},
   "source": [
    "- Although it seems that column fireplace_qu has many NaN values, there is a possibility that it might be a valuable predictor for pricing.\n",
    "\n",
    "\n",
    "- From the data dictionary, it is noted that the NA value for fireplace_qu is representing no fireplace.\n",
    "\n",
    "\n",
    "- Thus, assigning the NaN values as a neutral category for further investigation"
   ]
  },
  {
   "cell_type": "code",
   "execution_count": 76,
   "metadata": {},
   "outputs": [
    {
     "data": {
      "text/plain": [
       "0"
      ]
     },
     "execution_count": 76,
     "metadata": {},
     "output_type": "execute_result"
    }
   ],
   "source": [
    "#Setting null values to 'None' to be an included value for categorical test dataset\n",
    "test.loc[test[test['fireplace_qu'].isnull()].index, 'fireplace_qu'] = 'None'\n",
    "\n",
    "# Checking updated total null values\n",
    "test['fireplace_qu'].isnull().sum()"
   ]
  },
  {
   "cell_type": "code",
   "execution_count": 77,
   "metadata": {
    "scrolled": true
   },
   "outputs": [
    {
     "data": {
      "text/plain": [
       "None    422\n",
       "Gd      220\n",
       "TA      193\n",
       "Fa       16\n",
       "Po       15\n",
       "Ex       12\n",
       "Name: fireplace_qu, dtype: int64"
      ]
     },
     "execution_count": 77,
     "metadata": {},
     "output_type": "execute_result"
    }
   ],
   "source": [
    "# Checking the null values are in the dataset as value counts\n",
    "test['fireplace_qu'].value_counts()"
   ]
  },
  {
   "cell_type": "code",
   "execution_count": 78,
   "metadata": {
    "scrolled": true
   },
   "outputs": [
    {
     "data": {
      "text/plain": [
       "878"
      ]
     },
     "execution_count": 78,
     "metadata": {},
     "output_type": "execute_result"
    }
   ],
   "source": [
    "# Checking updated total non null values\n",
    "test['fireplace_qu'].value_counts().sum()"
   ]
  },
  {
   "cell_type": "markdown",
   "metadata": {},
   "source": [
    "##### Cleaning column garage_cond null values"
   ]
  },
  {
   "cell_type": "code",
   "execution_count": 79,
   "metadata": {},
   "outputs": [
    {
     "data": {
      "text/plain": [
       "833"
      ]
     },
     "execution_count": 79,
     "metadata": {},
     "output_type": "execute_result"
    }
   ],
   "source": [
    "# Checking total non null values initially\n",
    "test['garage_cond'].value_counts().sum()"
   ]
  },
  {
   "cell_type": "code",
   "execution_count": 80,
   "metadata": {},
   "outputs": [
    {
     "data": {
      "text/plain": [
       "TA    796\n",
       "Fa     27\n",
       "Po      6\n",
       "Gd      3\n",
       "Ex      1\n",
       "Name: garage_cond, dtype: int64"
      ]
     },
     "execution_count": 80,
     "metadata": {},
     "output_type": "execute_result"
    }
   ],
   "source": [
    "# Checking breakdown of non null values initially\n",
    "test['garage_cond'].value_counts()"
   ]
  },
  {
   "cell_type": "code",
   "execution_count": 81,
   "metadata": {},
   "outputs": [
    {
     "data": {
      "text/plain": [
       "45"
      ]
     },
     "execution_count": 81,
     "metadata": {},
     "output_type": "execute_result"
    }
   ],
   "source": [
    "# Checking total null values\n",
    "test['garage_cond'].isnull().sum()"
   ]
  },
  {
   "cell_type": "markdown",
   "metadata": {},
   "source": [
    "- The column garage_cond for number of null values seemed to be relatively reasonable while comparing it to the entire test dataset.\n",
    "\n",
    "\n",
    "- From the data dictionary, it is noted that the NA value for garage_cond is representing no garage.\n",
    "\n",
    "\n",
    "- Thus, assigning the NaN values as a neutral category for further investigation"
   ]
  },
  {
   "cell_type": "code",
   "execution_count": 82,
   "metadata": {},
   "outputs": [
    {
     "data": {
      "text/plain": [
       "0"
      ]
     },
     "execution_count": 82,
     "metadata": {},
     "output_type": "execute_result"
    }
   ],
   "source": [
    "#Setting null values to 'None' to be an included value for categorical test dataset\n",
    "test.loc[test[test['garage_cond'].isnull()].index, 'garage_cond'] = 'None'\n",
    "\n",
    "# Checking updated total null values\n",
    "test['garage_cond'].isnull().sum()"
   ]
  },
  {
   "cell_type": "code",
   "execution_count": 83,
   "metadata": {
    "scrolled": true
   },
   "outputs": [
    {
     "data": {
      "text/plain": [
       "TA      796\n",
       "None     45\n",
       "Fa       27\n",
       "Po        6\n",
       "Gd        3\n",
       "Ex        1\n",
       "Name: garage_cond, dtype: int64"
      ]
     },
     "execution_count": 83,
     "metadata": {},
     "output_type": "execute_result"
    }
   ],
   "source": [
    "# Checking the null values are in the dataset as value counts\n",
    "test['garage_cond'].value_counts()"
   ]
  },
  {
   "cell_type": "code",
   "execution_count": 84,
   "metadata": {
    "scrolled": true
   },
   "outputs": [
    {
     "data": {
      "text/plain": [
       "878"
      ]
     },
     "execution_count": 84,
     "metadata": {},
     "output_type": "execute_result"
    }
   ],
   "source": [
    "# Checking updated total non null values\n",
    "test['garage_cond'].value_counts().sum()"
   ]
  },
  {
   "cell_type": "markdown",
   "metadata": {},
   "source": [
    "##### Cleaning column garage_finish null values"
   ]
  },
  {
   "cell_type": "code",
   "execution_count": 85,
   "metadata": {},
   "outputs": [
    {
     "data": {
      "text/plain": [
       "833"
      ]
     },
     "execution_count": 85,
     "metadata": {},
     "output_type": "execute_result"
    }
   ],
   "source": [
    "# Checking total non null values initially\n",
    "test['garage_finish'].value_counts().sum()"
   ]
  },
  {
   "cell_type": "code",
   "execution_count": 86,
   "metadata": {},
   "outputs": [
    {
     "data": {
      "text/plain": [
       "Unf    382\n",
       "RFn    233\n",
       "Fin    218\n",
       "Name: garage_finish, dtype: int64"
      ]
     },
     "execution_count": 86,
     "metadata": {},
     "output_type": "execute_result"
    }
   ],
   "source": [
    "# Checking breakdown of non null values initially\n",
    "test['garage_finish'].value_counts()"
   ]
  },
  {
   "cell_type": "code",
   "execution_count": 87,
   "metadata": {},
   "outputs": [
    {
     "data": {
      "text/plain": [
       "45"
      ]
     },
     "execution_count": 87,
     "metadata": {},
     "output_type": "execute_result"
    }
   ],
   "source": [
    "# Checking total null values\n",
    "test['garage_finish'].isnull().sum()"
   ]
  },
  {
   "cell_type": "markdown",
   "metadata": {},
   "source": [
    "- The column garage_finish for number of null values seemed to be relatively reasonable while comparing it to the entire test dataset.\n",
    "\n",
    "\n",
    "- From the data dictionary, it is noted that the NA value for garage_finish is representing no garage.\n",
    "\n",
    "\n",
    "- Thus, assigning the NaN values as a neutral category for further investigation"
   ]
  },
  {
   "cell_type": "code",
   "execution_count": 88,
   "metadata": {},
   "outputs": [
    {
     "data": {
      "text/plain": [
       "0"
      ]
     },
     "execution_count": 88,
     "metadata": {},
     "output_type": "execute_result"
    }
   ],
   "source": [
    "#Setting null values to 'None' to be an included value for categorical test dataset\n",
    "test.loc[test[test['garage_finish'].isnull()].index, 'garage_finish'] = 'None'\n",
    "\n",
    "# Checking updated total null values\n",
    "test['garage_finish'].isnull().sum()"
   ]
  },
  {
   "cell_type": "code",
   "execution_count": 89,
   "metadata": {
    "scrolled": true
   },
   "outputs": [
    {
     "data": {
      "text/plain": [
       "Unf     382\n",
       "RFn     233\n",
       "Fin     218\n",
       "None     45\n",
       "Name: garage_finish, dtype: int64"
      ]
     },
     "execution_count": 89,
     "metadata": {},
     "output_type": "execute_result"
    }
   ],
   "source": [
    "# Checking the null values are in the dataset as value counts\n",
    "test['garage_finish'].value_counts()"
   ]
  },
  {
   "cell_type": "code",
   "execution_count": 90,
   "metadata": {
    "scrolled": true
   },
   "outputs": [
    {
     "data": {
      "text/plain": [
       "878"
      ]
     },
     "execution_count": 90,
     "metadata": {},
     "output_type": "execute_result"
    }
   ],
   "source": [
    "# Checking updated total non null values\n",
    "test['garage_finish'].value_counts().sum()"
   ]
  },
  {
   "cell_type": "markdown",
   "metadata": {},
   "source": [
    "##### Cleaning column garage_qual null values"
   ]
  },
  {
   "cell_type": "code",
   "execution_count": 91,
   "metadata": {},
   "outputs": [
    {
     "data": {
      "text/plain": [
       "833"
      ]
     },
     "execution_count": 91,
     "metadata": {},
     "output_type": "execute_result"
    }
   ],
   "source": [
    "# Checking total non null values initially\n",
    "test['garage_qual'].value_counts().sum()"
   ]
  },
  {
   "cell_type": "code",
   "execution_count": 92,
   "metadata": {},
   "outputs": [
    {
     "data": {
      "text/plain": [
       "TA    782\n",
       "Fa     42\n",
       "Gd      6\n",
       "Po      3\n",
       "Name: garage_qual, dtype: int64"
      ]
     },
     "execution_count": 92,
     "metadata": {},
     "output_type": "execute_result"
    }
   ],
   "source": [
    "# Checking breakdown of non null values initially\n",
    "test['garage_qual'].value_counts()"
   ]
  },
  {
   "cell_type": "code",
   "execution_count": 93,
   "metadata": {},
   "outputs": [
    {
     "data": {
      "text/plain": [
       "45"
      ]
     },
     "execution_count": 93,
     "metadata": {},
     "output_type": "execute_result"
    }
   ],
   "source": [
    "# Checking total null values\n",
    "test['garage_qual'].isnull().sum()"
   ]
  },
  {
   "cell_type": "markdown",
   "metadata": {},
   "source": [
    "- The column garage_qual for number of null values seemed to be relatively reasonable while comparing it to the entire test dataset.\n",
    "\n",
    "\n",
    "- From the data dictionary, it is noted that the NA value for garage_qual is representing no garage.\n",
    "\n",
    "\n",
    "- Thus, assigning the NaN values as a neutral category for further investigation"
   ]
  },
  {
   "cell_type": "code",
   "execution_count": 94,
   "metadata": {},
   "outputs": [
    {
     "data": {
      "text/plain": [
       "0"
      ]
     },
     "execution_count": 94,
     "metadata": {},
     "output_type": "execute_result"
    }
   ],
   "source": [
    "#Setting null values to 'None' to be an included value for categorical test dataset\n",
    "test.loc[test[test['garage_qual'].isnull()].index, 'garage_qual'] = 'None'\n",
    "\n",
    "# Checking updated total null values\n",
    "test['garage_qual'].isnull().sum()"
   ]
  },
  {
   "cell_type": "code",
   "execution_count": 95,
   "metadata": {
    "scrolled": true
   },
   "outputs": [
    {
     "data": {
      "text/plain": [
       "TA      782\n",
       "None     45\n",
       "Fa       42\n",
       "Gd        6\n",
       "Po        3\n",
       "Name: garage_qual, dtype: int64"
      ]
     },
     "execution_count": 95,
     "metadata": {},
     "output_type": "execute_result"
    }
   ],
   "source": [
    "# Checking the null values are in the dataset as value counts\n",
    "test['garage_qual'].value_counts()"
   ]
  },
  {
   "cell_type": "code",
   "execution_count": 96,
   "metadata": {
    "scrolled": true
   },
   "outputs": [
    {
     "data": {
      "text/plain": [
       "878"
      ]
     },
     "execution_count": 96,
     "metadata": {},
     "output_type": "execute_result"
    }
   ],
   "source": [
    "# Checking updated total non null values\n",
    "test['garage_qual'].value_counts().sum()"
   ]
  },
  {
   "cell_type": "markdown",
   "metadata": {},
   "source": [
    "##### Cleaning column garage_type null values"
   ]
  },
  {
   "cell_type": "code",
   "execution_count": 97,
   "metadata": {},
   "outputs": [
    {
     "data": {
      "text/plain": [
       "834"
      ]
     },
     "execution_count": 97,
     "metadata": {},
     "output_type": "execute_result"
    }
   ],
   "source": [
    "# Checking total non null values initially\n",
    "test['garage_type'].value_counts().sum()"
   ]
  },
  {
   "cell_type": "code",
   "execution_count": 98,
   "metadata": {},
   "outputs": [
    {
     "data": {
      "text/plain": [
       "Attchd     518\n",
       "Detchd     246\n",
       "BuiltIn     53\n",
       "Basment      9\n",
       "CarPort      4\n",
       "2Types       4\n",
       "Name: garage_type, dtype: int64"
      ]
     },
     "execution_count": 98,
     "metadata": {},
     "output_type": "execute_result"
    }
   ],
   "source": [
    "# Checking breakdown of non null values initially\n",
    "test['garage_type'].value_counts()"
   ]
  },
  {
   "cell_type": "code",
   "execution_count": 99,
   "metadata": {},
   "outputs": [
    {
     "data": {
      "text/plain": [
       "44"
      ]
     },
     "execution_count": 99,
     "metadata": {},
     "output_type": "execute_result"
    }
   ],
   "source": [
    "# Checking total null values\n",
    "test['garage_type'].isnull().sum()"
   ]
  },
  {
   "cell_type": "markdown",
   "metadata": {},
   "source": [
    "- The column garage_type for number of null values seemed to be relatively reasonable while comparing it to the entire test dataset.\n",
    "\n",
    "\n",
    "- From the data dictionary, it is noted that the NA value for garage_type is representing no garage.\n",
    "\n",
    "\n",
    "- Thus, assigning the NaN values as a neutral category for further investigation"
   ]
  },
  {
   "cell_type": "code",
   "execution_count": 100,
   "metadata": {},
   "outputs": [
    {
     "data": {
      "text/plain": [
       "0"
      ]
     },
     "execution_count": 100,
     "metadata": {},
     "output_type": "execute_result"
    }
   ],
   "source": [
    "#Setting null values to 'None' to be an included value for categorical test dataset\n",
    "test.loc[test[test['garage_type'].isnull()].index, 'garage_type'] = 'None'\n",
    "\n",
    "# Checking updated total null values\n",
    "test['garage_type'].isnull().sum()"
   ]
  },
  {
   "cell_type": "code",
   "execution_count": 101,
   "metadata": {
    "scrolled": true
   },
   "outputs": [
    {
     "data": {
      "text/plain": [
       "Attchd     518\n",
       "Detchd     246\n",
       "BuiltIn     53\n",
       "None        44\n",
       "Basment      9\n",
       "CarPort      4\n",
       "2Types       4\n",
       "Name: garage_type, dtype: int64"
      ]
     },
     "execution_count": 101,
     "metadata": {},
     "output_type": "execute_result"
    }
   ],
   "source": [
    "# Checking the null values are in the dataset as value counts\n",
    "test['garage_type'].value_counts()"
   ]
  },
  {
   "cell_type": "code",
   "execution_count": 102,
   "metadata": {
    "scrolled": true
   },
   "outputs": [
    {
     "data": {
      "text/plain": [
       "878"
      ]
     },
     "execution_count": 102,
     "metadata": {},
     "output_type": "execute_result"
    }
   ],
   "source": [
    "# Checking updated total non null values\n",
    "test['garage_type'].value_counts().sum()"
   ]
  },
  {
   "cell_type": "markdown",
   "metadata": {},
   "source": [
    "##### Cleaning column mas_vnr_type null values"
   ]
  },
  {
   "cell_type": "code",
   "execution_count": 103,
   "metadata": {},
   "outputs": [
    {
     "data": {
      "text/plain": [
       "877"
      ]
     },
     "execution_count": 103,
     "metadata": {},
     "output_type": "execute_result"
    }
   ],
   "source": [
    "# Checking total non null values initially\n",
    "test['mas_vnr_type'].value_counts().sum()"
   ]
  },
  {
   "cell_type": "code",
   "execution_count": 104,
   "metadata": {},
   "outputs": [
    {
     "data": {
      "text/plain": [
       "None       534\n",
       "BrkFace    250\n",
       "Stone       80\n",
       "BrkCmn      12\n",
       "CBlock       1\n",
       "Name: mas_vnr_type, dtype: int64"
      ]
     },
     "execution_count": 104,
     "metadata": {},
     "output_type": "execute_result"
    }
   ],
   "source": [
    "# Checking breakdown of non null values initially\n",
    "test['mas_vnr_type'].value_counts()"
   ]
  },
  {
   "cell_type": "code",
   "execution_count": 105,
   "metadata": {},
   "outputs": [
    {
     "data": {
      "text/plain": [
       "1"
      ]
     },
     "execution_count": 105,
     "metadata": {},
     "output_type": "execute_result"
    }
   ],
   "source": [
    "# Checking total null values\n",
    "test['mas_vnr_type'].isnull().sum()"
   ]
  },
  {
   "cell_type": "markdown",
   "metadata": {},
   "source": [
    "- There is only 1 null value for mas_vnr_type\n",
    "\n",
    "\n",
    "- From the data dictionary, it is noted that the NA value for mas_vnr_type is representing as 'None'.\n",
    "\n",
    "\n",
    "- Thus, assigning the NaN values as a neutral category for further investigation"
   ]
  },
  {
   "cell_type": "code",
   "execution_count": 106,
   "metadata": {},
   "outputs": [
    {
     "data": {
      "text/plain": [
       "0"
      ]
     },
     "execution_count": 106,
     "metadata": {},
     "output_type": "execute_result"
    }
   ],
   "source": [
    "#Setting null values to 'None' to be an included value for categorical test dataset\n",
    "test.loc[test[test['mas_vnr_type'].isnull()].index, 'mas_vnr_type'] = 'None'\n",
    "\n",
    "# Checking updated total null values\n",
    "test['mas_vnr_type'].isnull().sum()"
   ]
  },
  {
   "cell_type": "code",
   "execution_count": 107,
   "metadata": {
    "scrolled": true
   },
   "outputs": [
    {
     "data": {
      "text/plain": [
       "None       535\n",
       "BrkFace    250\n",
       "Stone       80\n",
       "BrkCmn      12\n",
       "CBlock       1\n",
       "Name: mas_vnr_type, dtype: int64"
      ]
     },
     "execution_count": 107,
     "metadata": {},
     "output_type": "execute_result"
    }
   ],
   "source": [
    "# Checking the null values are in the dataset as value counts\n",
    "test['mas_vnr_type'].value_counts()"
   ]
  },
  {
   "cell_type": "code",
   "execution_count": 108,
   "metadata": {
    "scrolled": true
   },
   "outputs": [
    {
     "data": {
      "text/plain": [
       "878"
      ]
     },
     "execution_count": 108,
     "metadata": {},
     "output_type": "execute_result"
    }
   ],
   "source": [
    "# Checking updated total non null values\n",
    "test['mas_vnr_type'].value_counts().sum()"
   ]
  },
  {
   "cell_type": "markdown",
   "metadata": {},
   "source": [
    "##### Cleaning column misc_feature null values"
   ]
  },
  {
   "cell_type": "code",
   "execution_count": 109,
   "metadata": {},
   "outputs": [
    {
     "data": {
      "text/plain": [
       "41"
      ]
     },
     "execution_count": 109,
     "metadata": {},
     "output_type": "execute_result"
    }
   ],
   "source": [
    "# Checking total non null values initially\n",
    "test['misc_feature'].value_counts().sum()"
   ]
  },
  {
   "cell_type": "code",
   "execution_count": 110,
   "metadata": {},
   "outputs": [
    {
     "data": {
      "text/plain": [
       "Shed    39\n",
       "Gar2     1\n",
       "Othr     1\n",
       "Name: misc_feature, dtype: int64"
      ]
     },
     "execution_count": 110,
     "metadata": {},
     "output_type": "execute_result"
    }
   ],
   "source": [
    "# Checking breakdown of non null values initially\n",
    "test['misc_feature'].value_counts()"
   ]
  },
  {
   "cell_type": "code",
   "execution_count": 111,
   "metadata": {},
   "outputs": [
    {
     "data": {
      "text/plain": [
       "837"
      ]
     },
     "execution_count": 111,
     "metadata": {},
     "output_type": "execute_result"
    }
   ],
   "source": [
    "# Checking total null values\n",
    "test['misc_feature'].isnull().sum()"
   ]
  },
  {
   "cell_type": "markdown",
   "metadata": {},
   "source": [
    "- Although it seems that column misc_feature has many NaN values, there is a possibility that it might be a valuable predictor for pricing.\n",
    "\n",
    "\n",
    "- From the data dictionary, it is noted that the NA value for misc_feature is representing as 'None'.\n",
    "\n",
    "\n",
    "- Thus, assigning the NaN values as a neutral category for further investigation"
   ]
  },
  {
   "cell_type": "code",
   "execution_count": 112,
   "metadata": {},
   "outputs": [
    {
     "data": {
      "text/plain": [
       "0"
      ]
     },
     "execution_count": 112,
     "metadata": {},
     "output_type": "execute_result"
    }
   ],
   "source": [
    "#Setting null values to 'None' to be an included value for categorical test dataset\n",
    "test.loc[test[test['misc_feature'].isnull()].index, 'misc_feature'] = 'None'\n",
    "\n",
    "# Checking updated total null values\n",
    "test['misc_feature'].isnull().sum()"
   ]
  },
  {
   "cell_type": "code",
   "execution_count": 113,
   "metadata": {
    "scrolled": true
   },
   "outputs": [
    {
     "data": {
      "text/plain": [
       "None    837\n",
       "Shed     39\n",
       "Gar2      1\n",
       "Othr      1\n",
       "Name: misc_feature, dtype: int64"
      ]
     },
     "execution_count": 113,
     "metadata": {},
     "output_type": "execute_result"
    }
   ],
   "source": [
    "# Checking the null values are in the dataset as value counts\n",
    "test['misc_feature'].value_counts()"
   ]
  },
  {
   "cell_type": "code",
   "execution_count": 114,
   "metadata": {
    "scrolled": true
   },
   "outputs": [
    {
     "data": {
      "text/plain": [
       "878"
      ]
     },
     "execution_count": 114,
     "metadata": {},
     "output_type": "execute_result"
    }
   ],
   "source": [
    "# Checking updated total non null values\n",
    "test['misc_feature'].value_counts().sum()"
   ]
  },
  {
   "cell_type": "markdown",
   "metadata": {},
   "source": [
    "##### Cleaning column pool_qc null values"
   ]
  },
  {
   "cell_type": "code",
   "execution_count": 115,
   "metadata": {},
   "outputs": [
    {
     "data": {
      "text/plain": [
       "4"
      ]
     },
     "execution_count": 115,
     "metadata": {},
     "output_type": "execute_result"
    }
   ],
   "source": [
    "# Checking total non null values initially\n",
    "test['pool_qc'].value_counts().sum()"
   ]
  },
  {
   "cell_type": "code",
   "execution_count": 116,
   "metadata": {},
   "outputs": [
    {
     "data": {
      "text/plain": [
       "Ex    3\n",
       "TA    1\n",
       "Name: pool_qc, dtype: int64"
      ]
     },
     "execution_count": 116,
     "metadata": {},
     "output_type": "execute_result"
    }
   ],
   "source": [
    "# Checking breakdown of non null values initially\n",
    "test['pool_qc'].value_counts()"
   ]
  },
  {
   "cell_type": "code",
   "execution_count": 117,
   "metadata": {},
   "outputs": [
    {
     "data": {
      "text/plain": [
       "874"
      ]
     },
     "execution_count": 117,
     "metadata": {},
     "output_type": "execute_result"
    }
   ],
   "source": [
    "# Checking total null values\n",
    "test['pool_qc'].isnull().sum()"
   ]
  },
  {
   "cell_type": "markdown",
   "metadata": {},
   "source": [
    "- Although it seems that column pool_qc has many NaN values, there is a possibility that it might be a valuable predictor for pricing.\n",
    "\n",
    "\n",
    "- From the data dictionary, it is noted that the NA value for pool_qc is representing no pool.\n",
    "\n",
    "\n",
    "- Thus, assigning the NaN values as a neutral category for further investigation"
   ]
  },
  {
   "cell_type": "code",
   "execution_count": 118,
   "metadata": {},
   "outputs": [
    {
     "data": {
      "text/plain": [
       "0"
      ]
     },
     "execution_count": 118,
     "metadata": {},
     "output_type": "execute_result"
    }
   ],
   "source": [
    "#Setting null values to 'None' to be an included value for categorical test dataset\n",
    "test.loc[test[test['pool_qc'].isnull()].index, 'pool_qc'] = 'None'\n",
    "\n",
    "# Checking updated total null values\n",
    "test['pool_qc'].isnull().sum()"
   ]
  },
  {
   "cell_type": "code",
   "execution_count": 119,
   "metadata": {
    "scrolled": true
   },
   "outputs": [
    {
     "data": {
      "text/plain": [
       "None    874\n",
       "Ex        3\n",
       "TA        1\n",
       "Name: pool_qc, dtype: int64"
      ]
     },
     "execution_count": 119,
     "metadata": {},
     "output_type": "execute_result"
    }
   ],
   "source": [
    "# Checking the null values are in the dataset as value counts\n",
    "test['pool_qc'].value_counts()"
   ]
  },
  {
   "cell_type": "code",
   "execution_count": 120,
   "metadata": {
    "scrolled": true
   },
   "outputs": [
    {
     "data": {
      "text/plain": [
       "878"
      ]
     },
     "execution_count": 120,
     "metadata": {},
     "output_type": "execute_result"
    }
   ],
   "source": [
    "# Checking updated total non null values\n",
    "test['pool_qc'].value_counts().sum()"
   ]
  },
  {
   "cell_type": "markdown",
   "metadata": {},
   "source": [
    "#### Getting null values and checking if any null values are left within all columns for test dataset"
   ]
  },
  {
   "cell_type": "code",
   "execution_count": 121,
   "metadata": {},
   "outputs": [
    {
     "data": {
      "text/html": [
       "<div>\n",
       "<style scoped>\n",
       "    .dataframe tbody tr th:only-of-type {\n",
       "        vertical-align: middle;\n",
       "    }\n",
       "\n",
       "    .dataframe tbody tr th {\n",
       "        vertical-align: top;\n",
       "    }\n",
       "\n",
       "    .dataframe thead th {\n",
       "        text-align: right;\n",
       "    }\n",
       "</style>\n",
       "<table border=\"1\" class=\"dataframe\">\n",
       "  <thead>\n",
       "    <tr style=\"text-align: right;\">\n",
       "      <th></th>\n",
       "      <th>null_count</th>\n",
       "    </tr>\n",
       "  </thead>\n",
       "  <tbody>\n",
       "  </tbody>\n",
       "</table>\n",
       "</div>"
      ],
      "text/plain": [
       "Empty DataFrame\n",
       "Columns: [null_count]\n",
       "Index: []"
      ]
     },
     "execution_count": 121,
     "metadata": {},
     "output_type": "execute_result"
    }
   ],
   "source": [
    "# Getting the total null values for the all columns in train dataset\n",
    "test_null = pd.DataFrame(test.isnull().sum(), columns = ['null_count']).sort_values(by = 'null_count',ascending = False)\n",
    "test_null = test_null[test_null['null_count'] > 0].sort_values('null_count', ascending=False).sort_index()\n",
    "\n",
    "# Checking there are no null values\n",
    "test_null"
   ]
  },
  {
   "cell_type": "markdown",
   "metadata": {},
   "source": [
    "- Checking if each test columns values matching the total number of rows"
   ]
  },
  {
   "cell_type": "code",
   "execution_count": 122,
   "metadata": {
    "scrolled": true
   },
   "outputs": [
    {
     "name": "stdout",
     "output_type": "stream",
     "text": [
      "<class 'pandas.core.frame.DataFrame'>\n",
      "RangeIndex: 878 entries, 0 to 877\n",
      "Data columns (total 79 columns):\n",
      " #   Column           Non-Null Count  Dtype  \n",
      "---  ------           --------------  -----  \n",
      " 0   id               878 non-null    int64  \n",
      " 1   pid              878 non-null    int64  \n",
      " 2   ms_subclass      878 non-null    int64  \n",
      " 3   ms_zoning        878 non-null    object \n",
      " 4   lot_frontage     878 non-null    float64\n",
      " 5   lot_area         878 non-null    int64  \n",
      " 6   street           878 non-null    object \n",
      " 7   lot_shape        878 non-null    object \n",
      " 8   land_contour     878 non-null    object \n",
      " 9   utilities        878 non-null    object \n",
      " 10  lot_config       878 non-null    object \n",
      " 11  land_slope       878 non-null    object \n",
      " 12  neighborhood     878 non-null    object \n",
      " 13  condition_1      878 non-null    object \n",
      " 14  condition_2      878 non-null    object \n",
      " 15  bldg_type        878 non-null    object \n",
      " 16  house_style      878 non-null    object \n",
      " 17  overall_qual     878 non-null    int64  \n",
      " 18  overall_cond     878 non-null    int64  \n",
      " 19  year_built       878 non-null    int64  \n",
      " 20  year_remod/add   878 non-null    int64  \n",
      " 21  roof_style       878 non-null    object \n",
      " 22  roof_matl        878 non-null    object \n",
      " 23  exterior_1st     878 non-null    object \n",
      " 24  exterior_2nd     878 non-null    object \n",
      " 25  mas_vnr_type     878 non-null    object \n",
      " 26  mas_vnr_area     878 non-null    float64\n",
      " 27  exter_qual       878 non-null    object \n",
      " 28  exter_cond       878 non-null    object \n",
      " 29  foundation       878 non-null    object \n",
      " 30  bsmt_qual        878 non-null    object \n",
      " 31  bsmt_cond        878 non-null    object \n",
      " 32  bsmt_exposure    878 non-null    object \n",
      " 33  bsmtfin_type_1   878 non-null    object \n",
      " 34  bsmtfin_sf_1     878 non-null    int64  \n",
      " 35  bsmtfin_type_2   878 non-null    object \n",
      " 36  bsmtfin_sf_2     878 non-null    int64  \n",
      " 37  bsmt_unf_sf      878 non-null    int64  \n",
      " 38  total_bsmt_sf    878 non-null    int64  \n",
      " 39  heating          878 non-null    object \n",
      " 40  heating_qc       878 non-null    object \n",
      " 41  central_air      878 non-null    object \n",
      " 42  electrical       878 non-null    object \n",
      " 43  1st_flr_sf       878 non-null    int64  \n",
      " 44  2nd_flr_sf       878 non-null    int64  \n",
      " 45  low_qual_fin_sf  878 non-null    int64  \n",
      " 46  gr_liv_area      878 non-null    int64  \n",
      " 47  bsmt_full_bath   878 non-null    int64  \n",
      " 48  bsmt_half_bath   878 non-null    int64  \n",
      " 49  full_bath        878 non-null    int64  \n",
      " 50  half_bath        878 non-null    int64  \n",
      " 51  bedroom_abvgr    878 non-null    int64  \n",
      " 52  kitchen_abvgr    878 non-null    int64  \n",
      " 53  kitchen_qual     878 non-null    object \n",
      " 54  totrms_abvgrd    878 non-null    int64  \n",
      " 55  functional       878 non-null    object \n",
      " 56  fireplaces       878 non-null    int64  \n",
      " 57  fireplace_qu     878 non-null    object \n",
      " 58  garage_type      878 non-null    object \n",
      " 59  garage_yr_blt    878 non-null    float64\n",
      " 60  garage_finish    878 non-null    object \n",
      " 61  garage_cars      878 non-null    int64  \n",
      " 62  garage_area      878 non-null    int64  \n",
      " 63  garage_qual      878 non-null    object \n",
      " 64  garage_cond      878 non-null    object \n",
      " 65  paved_drive      878 non-null    object \n",
      " 66  wood_deck_sf     878 non-null    int64  \n",
      " 67  open_porch_sf    878 non-null    int64  \n",
      " 68  enclosed_porch   878 non-null    int64  \n",
      " 69  3ssn_porch       878 non-null    int64  \n",
      " 70  screen_porch     878 non-null    int64  \n",
      " 71  pool_area        878 non-null    int64  \n",
      " 72  pool_qc          878 non-null    object \n",
      " 73  fence            878 non-null    object \n",
      " 74  misc_feature     878 non-null    object \n",
      " 75  misc_val         878 non-null    int64  \n",
      " 76  mo_sold          878 non-null    int64  \n",
      " 77  yr_sold          878 non-null    int64  \n",
      " 78  sale_type        878 non-null    object \n",
      "dtypes: float64(3), int64(35), object(41)\n",
      "memory usage: 542.0+ KB\n"
     ]
    }
   ],
   "source": [
    "test.info()"
   ]
  },
  {
   "cell_type": "markdown",
   "metadata": {},
   "source": [
    "- It appears that ms_zoning has some seperated spacing in its categorical naming from the data dictionary"
   ]
  },
  {
   "cell_type": "code",
   "execution_count": 123,
   "metadata": {},
   "outputs": [
    {
     "data": {
      "text/plain": [
       "RL         674\n",
       "RM         146\n",
       "FV          38\n",
       "RH          13\n",
       "C (all)      6\n",
       "I (all)      1\n",
       "Name: ms_zoning, dtype: int64"
      ]
     },
     "execution_count": 123,
     "metadata": {},
     "output_type": "execute_result"
    }
   ],
   "source": [
    "test['ms_zoning'].value_counts()"
   ]
  },
  {
   "cell_type": "markdown",
   "metadata": {},
   "source": [
    "- Replacing categorical naming of ms_zoning with seperated spacing to a single character for easy referencing"
   ]
  },
  {
   "cell_type": "code",
   "execution_count": 124,
   "metadata": {},
   "outputs": [],
   "source": [
    "test['ms_zoning'].replace({'C (all)': 'C', 'A (agr)': 'A', 'I (all)': 'I'}, inplace=True)"
   ]
  },
  {
   "cell_type": "code",
   "execution_count": 125,
   "metadata": {},
   "outputs": [
    {
     "data": {
      "text/plain": [
       "RL    674\n",
       "RM    146\n",
       "FV     38\n",
       "RH     13\n",
       "C       6\n",
       "I       1\n",
       "Name: ms_zoning, dtype: int64"
      ]
     },
     "execution_count": 125,
     "metadata": {},
     "output_type": "execute_result"
    }
   ],
   "source": [
    "test['ms_zoning'].value_counts()"
   ]
  },
  {
   "cell_type": "markdown",
   "metadata": {},
   "source": [
    "#### Writing cleaned test dataset into a csv file to datasets folder"
   ]
  },
  {
   "cell_type": "code",
   "execution_count": 126,
   "metadata": {},
   "outputs": [],
   "source": [
    "test.to_csv('../datasets/test_clean.csv', index=False)"
   ]
  }
 ],
 "metadata": {
  "kernelspec": {
   "display_name": "Python 3",
   "language": "python",
   "name": "python3"
  },
  "language_info": {
   "codemirror_mode": {
    "name": "ipython",
    "version": 3
   },
   "file_extension": ".py",
   "mimetype": "text/x-python",
   "name": "python",
   "nbconvert_exporter": "python",
   "pygments_lexer": "ipython3",
   "version": "3.8.5"
  }
 },
 "nbformat": 4,
 "nbformat_minor": 4
}
